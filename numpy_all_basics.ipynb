{
  "nbformat": 4,
  "nbformat_minor": 0,
  "metadata": {
    "colab": {
      "provenance": [],
      "authorship_tag": "ABX9TyOs9b6rTTRPAuyq34iDM6oy",
      "include_colab_link": true
    },
    "kernelspec": {
      "name": "python3",
      "display_name": "Python 3"
    },
    "language_info": {
      "name": "python"
    }
  },
  "cells": [
    {
      "cell_type": "markdown",
      "metadata": {
        "id": "view-in-github",
        "colab_type": "text"
      },
      "source": [
        "<a href=\"https://colab.research.google.com/github/laxitajain/python/blob/main/numpy_all_basics.ipynb\" target=\"_parent\"><img src=\"https://colab.research.google.com/assets/colab-badge.svg\" alt=\"Open In Colab\"/></a>"
      ]
    },
    {
      "cell_type": "code",
      "execution_count": 1,
      "metadata": {
        "colab": {
          "base_uri": "https://localhost:8080/"
        },
        "id": "6pLDOBllmHAW",
        "outputId": "22f16925-7d12-441e-c2db-c50536ae7024"
      },
      "outputs": [
        {
          "output_type": "stream",
          "name": "stdout",
          "text": [
            "[1 2 3 4]\n"
          ]
        }
      ],
      "source": [
        "import numpy as np\n",
        "arr=np.array([1,2,3,4])\n",
        "print(arr)"
      ]
    },
    {
      "cell_type": "code",
      "source": [
        "t=[1,2,3]\n",
        "ar1=np.array(t)\n",
        "print(ar1)"
      ],
      "metadata": {
        "colab": {
          "base_uri": "https://localhost:8080/"
        },
        "id": "bn5EKq7SmamE",
        "outputId": "b44e1677-8073-494a-c142-d720ffaaa913"
      },
      "execution_count": 2,
      "outputs": [
        {
          "output_type": "stream",
          "name": "stdout",
          "text": [
            "[1 2 3]\n"
          ]
        }
      ]
    },
    {
      "cell_type": "code",
      "source": [
        "zerod=np.array(2)\n",
        "print(oned)\n",
        "print(type(oned))"
      ],
      "metadata": {
        "colab": {
          "base_uri": "https://localhost:8080/"
        },
        "id": "cflx3scNmuqV",
        "outputId": "a6562455-d325-458d-9332-9a0ab9a8de26"
      },
      "execution_count": 4,
      "outputs": [
        {
          "output_type": "stream",
          "name": "stdout",
          "text": [
            "2\n",
            "<class 'numpy.ndarray'>\n"
          ]
        }
      ]
    },
    {
      "cell_type": "code",
      "source": [
        "zerodd=np.array(3, dtype=np.float64)\n",
        "# or use np.array(3,dtype=float) , but not np.array(3, dtype=np.float)\n",
        "print(zerodd)"
      ],
      "metadata": {
        "colab": {
          "base_uri": "https://localhost:8080/"
        },
        "id": "a0ApRZXfnOPo",
        "outputId": "e03680ba-62ef-4437-daf0-752cdfda9ecc"
      },
      "execution_count": 11,
      "outputs": [
        {
          "output_type": "stream",
          "name": "stdout",
          "text": [
            "3.0\n"
          ]
        }
      ]
    },
    {
      "cell_type": "code",
      "source": [
        "onedd=np.array([1,23,4])\n",
        "print(onedd)\n",
        "twodd=np.array([[1,2,3],[1,2,3]])\n",
        "print(twodd)\n",
        "print(twodd.ndim)\n",
        "print(onedd.ndim)\n",
        "print(zerodd.ndim)\n"
      ],
      "metadata": {
        "colab": {
          "base_uri": "https://localhost:8080/"
        },
        "id": "lsuw86Qvntnh",
        "outputId": "00f9b389-cb63-4093-802d-73513d0c43fb"
      },
      "execution_count": 13,
      "outputs": [
        {
          "output_type": "stream",
          "name": "stdout",
          "text": [
            "[ 1 23  4]\n",
            "[[1 2 3]\n",
            " [1 2 3]]\n",
            "2\n",
            "1\n",
            "0\n"
          ]
        }
      ]
    },
    {
      "cell_type": "code",
      "source": [
        "customd=np.array([1,2,3,4],ndmin=5)\n",
        "print(customd)  #dimension= no. of opening brackets or no. of closing brackets"
      ],
      "metadata": {
        "colab": {
          "base_uri": "https://localhost:8080/"
        },
        "id": "l2eyCnBpplxu",
        "outputId": "cb669ac1-e97c-4150-bf8b-54456dc8f5f0"
      },
      "execution_count": 14,
      "outputs": [
        {
          "output_type": "stream",
          "name": "stdout",
          "text": [
            "[[[[[1 2 3 4]]]]]\n"
          ]
        }
      ]
    },
    {
      "cell_type": "code",
      "source": [
        "a=2\n",
        "customd2=np.array(a,ndmin=1)\n",
        "print(customd2)"
      ],
      "metadata": {
        "colab": {
          "base_uri": "https://localhost:8080/"
        },
        "id": "a09BN_nrp25R",
        "outputId": "53386585-8a26-4ab1-dde8-bba563354ac6"
      },
      "execution_count": 16,
      "outputs": [
        {
          "output_type": "stream",
          "name": "stdout",
          "text": [
            "[2]\n"
          ]
        }
      ]
    },
    {
      "cell_type": "code",
      "source": [
        "a=np.array([1,2,3,4])\n",
        "print(a[2])"
      ],
      "metadata": {
        "colab": {
          "base_uri": "https://localhost:8080/"
        },
        "id": "e9pCsPueqQZx",
        "outputId": "a0ff7c40-cc05-46d3-9c15-2821a0e024c7"
      },
      "execution_count": 17,
      "outputs": [
        {
          "output_type": "stream",
          "name": "stdout",
          "text": [
            "3\n"
          ]
        }
      ]
    },
    {
      "cell_type": "code",
      "source": [
        "lst=[[1,2,3],[4,5,6]]\n",
        "b=np.array(lst)\n",
        "print(b[1,1])"
      ],
      "metadata": {
        "colab": {
          "base_uri": "https://localhost:8080/"
        },
        "id": "H8NWP0Kyqj6m",
        "outputId": "5222d202-ee07-45a7-ae3b-7fcfcf3c0cd0"
      },
      "execution_count": 20,
      "outputs": [
        {
          "output_type": "stream",
          "name": "stdout",
          "text": [
            "5\n"
          ]
        }
      ]
    },
    {
      "cell_type": "code",
      "source": [
        "print(b[-1,1])\n",
        "print(b[-1,-1])\n",
        "print(b[-2,0])"
      ],
      "metadata": {
        "colab": {
          "base_uri": "https://localhost:8080/"
        },
        "id": "tVI-B_Mrq377",
        "outputId": "05eb5218-c55f-476e-bc17-8de46985ef83"
      },
      "execution_count": 24,
      "outputs": [
        {
          "output_type": "stream",
          "name": "stdout",
          "text": [
            "5\n",
            "6\n",
            "1\n"
          ]
        }
      ]
    },
    {
      "cell_type": "code",
      "source": [
        "a=np.array([[[1,2,3],[4,5,6],[7,8,9]],[[10,11,12],[13,14,15],[16,17,18]]])\n",
        "print(a)  # a 3-d array has 3 params: no. of 2-d arrays, no. of rows, no. of columns\n",
        "_3d = np.zeros((2, 3, 2))\n",
        "print(_3d)\n"
      ],
      "metadata": {
        "colab": {
          "base_uri": "https://localhost:8080/"
        },
        "id": "ccD0Btchrsae",
        "outputId": "1e5aeb3e-7070-4a07-d7cd-a3e184731831"
      },
      "execution_count": 32,
      "outputs": [
        {
          "output_type": "stream",
          "name": "stdout",
          "text": [
            "[[[ 1  2  3]\n",
            "  [ 4  5  6]\n",
            "  [ 7  8  9]]\n",
            "\n",
            " [[10 11 12]\n",
            "  [13 14 15]\n",
            "  [16 17 18]]]\n",
            "[[[0. 0.]\n",
            "  [0. 0.]\n",
            "  [0. 0.]]\n",
            "\n",
            " [[0. 0.]\n",
            "  [0. 0.]\n",
            "  [0. 0.]]]\n"
          ]
        }
      ]
    },
    {
      "cell_type": "code",
      "source": [
        "another_3d=np.ones((2,3,1))\n",
        "print(another_3d)"
      ],
      "metadata": {
        "colab": {
          "base_uri": "https://localhost:8080/"
        },
        "id": "jgb_sxl_ukrM",
        "outputId": "5a1e8d20-e4ec-42ac-fe14-952c82be2cca"
      },
      "execution_count": 34,
      "outputs": [
        {
          "output_type": "stream",
          "name": "stdout",
          "text": [
            "[[[1.]\n",
            "  [1.]\n",
            "  [1.]]\n",
            "\n",
            " [[1.]\n",
            "  [1.]\n",
            "  [1.]]]\n"
          ]
        }
      ]
    },
    {
      "cell_type": "code",
      "source": [
        "yet_another_3d=np.ones((1,3,2))\n",
        "print(yet_another_3d)"
      ],
      "metadata": {
        "colab": {
          "base_uri": "https://localhost:8080/"
        },
        "id": "Aw5b-s89u2Df",
        "outputId": "13a3eed0-28c6-4e4c-98ff-d15bf55ee485"
      },
      "execution_count": 35,
      "outputs": [
        {
          "output_type": "stream",
          "name": "stdout",
          "text": [
            "[[[1. 1.]\n",
            "  [1. 1.]\n",
            "  [1. 1.]]]\n"
          ]
        }
      ]
    },
    {
      "cell_type": "code",
      "source": [
        "_2d=np.zeros((2,3))\n",
        "# a 2-d array has 2 params: no. of rows (or) no. of 1-d arrays, no. of columns\n",
        "print(_2d)"
      ],
      "metadata": {
        "colab": {
          "base_uri": "https://localhost:8080/"
        },
        "id": "ydvTfgxvvTdc",
        "outputId": "366c3165-90df-43e3-b557-8f07b16ff21c"
      },
      "execution_count": 37,
      "outputs": [
        {
          "output_type": "stream",
          "name": "stdout",
          "text": [
            "[[0. 0. 0.]\n",
            " [0. 0. 0.]]\n"
          ]
        }
      ]
    },
    {
      "cell_type": "code",
      "source": [
        "_1d=np.ones((5))\n",
        "print(_1d)"
      ],
      "metadata": {
        "colab": {
          "base_uri": "https://localhost:8080/"
        },
        "id": "ZxDUtYTSvs1S",
        "outputId": "9c89e90a-88c5-4709-d08e-010d15ac442e"
      },
      "execution_count": 38,
      "outputs": [
        {
          "output_type": "stream",
          "name": "stdout",
          "text": [
            "[1. 1. 1. 1. 1.]\n"
          ]
        }
      ]
    },
    {
      "cell_type": "code",
      "source": [
        "_0d=np.zeros(()) # to create a 0-d array, pass just a '()' as an argument\n",
        "print(_0d)"
      ],
      "metadata": {
        "colab": {
          "base_uri": "https://localhost:8080/"
        },
        "id": "lhkT_Hhtv4zV",
        "outputId": "95b3814f-71fe-4315-fb22-2aeb25f5ea41"
      },
      "execution_count": 41,
      "outputs": [
        {
          "output_type": "stream",
          "name": "stdout",
          "text": [
            "0\n"
          ]
        }
      ]
    },
    {
      "cell_type": "code",
      "source": [
        "# default type for ones and zeros creation => np.float64, change it by => dtype = np.int32\n",
        "_0d=np.ones((),dtype=np.int32)\n",
        "print(_0d)"
      ],
      "metadata": {
        "colab": {
          "base_uri": "https://localhost:8080/"
        },
        "id": "sV2RlzTNwSGc",
        "outputId": "2a2e2f81-425d-40c1-ce9b-399199a89a0e"
      },
      "execution_count": 42,
      "outputs": [
        {
          "output_type": "stream",
          "name": "stdout",
          "text": [
            "1\n"
          ]
        }
      ]
    },
    {
      "cell_type": "code",
      "source": [
        "ar=np.array([[1,2,3,4,5],[6,7,8,9,10]])\n",
        "print(ar[1:,:3]) # sliced values will be return as an array of the the dimesion of the original array. since two slices are passed."
      ],
      "metadata": {
        "colab": {
          "base_uri": "https://localhost:8080/"
        },
        "id": "85esy9jAwqu8",
        "outputId": "bf844d1f-88ca-491e-b2c4-56ca47633444"
      },
      "execution_count": 43,
      "outputs": [
        {
          "output_type": "stream",
          "name": "stdout",
          "text": [
            "[[6 7 8]]\n"
          ]
        }
      ]
    },
    {
      "cell_type": "code",
      "source": [
        "ar=np.array([[1,2,3,4,5],[6,7,8,9,10]])\n",
        "print(ar[:1,2])\n",
        "print(ar[1,3:5])\n",
        "print(ar[1])\n",
        "print(ar[1:,::2])"
      ],
      "metadata": {
        "colab": {
          "base_uri": "https://localhost:8080/"
        },
        "id": "4x0n1K0Kycr_",
        "outputId": "177a7636-b895-4ef4-8e93-c61369598f05"
      },
      "execution_count": 49,
      "outputs": [
        {
          "output_type": "stream",
          "name": "stdout",
          "text": [
            "[3]\n",
            "[ 9 10]\n",
            "[ 6  7  8  9 10]\n",
            "[[ 6  8 10]]\n"
          ]
        }
      ]
    },
    {
      "cell_type": "code",
      "source": [
        "ar=np.array([[1,2,3],[4,5,6],[7,8,9]])\n",
        "print(ar)\n",
        "print()\n",
        "print(ar[::2])\n",
        "print()\n",
        "print(ar[1:3,:3:2])"
      ],
      "metadata": {
        "colab": {
          "base_uri": "https://localhost:8080/"
        },
        "id": "DQaNRX4i0BZq",
        "outputId": "f10e66e6-39cf-40de-f0b3-487bc6df194f"
      },
      "execution_count": 64,
      "outputs": [
        {
          "output_type": "stream",
          "name": "stdout",
          "text": [
            "[[1 2 3]\n",
            " [4 5 6]\n",
            " [7 8 9]]\n",
            "\n",
            "[[1 2 3]\n",
            " [7 8 9]]\n",
            "\n",
            "[[4 6]\n",
            " [7 9]]\n"
          ]
        }
      ]
    },
    {
      "cell_type": "code",
      "source": [
        "ar=np.array([[1,2,3],[4,5,6],[7,8,9]])\n",
        "print(ar[-1:1:-1]) # no negative step required in negative indexing, but a negative step is must in negative slicing, if going from end to start!!\n",
        "print()\n",
        "print(ar[-2:-1]) # no negative step required if going from start to end\n",
        "print()\n",
        "# however,\n",
        "print(ar[-2:0]) #shall produce an empty o/p. beacuse we're going from back to start and have the default positive step of 1"
      ],
      "metadata": {
        "colab": {
          "base_uri": "https://localhost:8080/"
        },
        "id": "KdBixx-A04PN",
        "outputId": "660fc941-5f5b-47ff-8949-ca9083d23827"
      },
      "execution_count": 63,
      "outputs": [
        {
          "output_type": "stream",
          "name": "stdout",
          "text": [
            "[[7 8 9]]\n",
            "\n",
            "[[4 5 6]]\n",
            "\n",
            "[]\n"
          ]
        }
      ]
    },
    {
      "cell_type": "code",
      "source": [
        "arr=np.array([7,4,5],dtype=float) #can either use np.float64 or simply float, np.int32 or simply int\n",
        "print(arr)\n",
        "print(arr.dtype)"
      ],
      "metadata": {
        "colab": {
          "base_uri": "https://localhost:8080/"
        },
        "id": "uP1d85pZ2wmj",
        "outputId": "d91aecf5-8063-4d02-e035-14b5e8f00f89"
      },
      "execution_count": 71,
      "outputs": [
        {
          "output_type": "stream",
          "name": "stdout",
          "text": [
            "[7. 4. 5.]\n",
            "float64\n"
          ]
        }
      ]
    },
    {
      "cell_type": "code",
      "source": [
        "arrs=np.array([1,2,3],dtype='S')\n",
        "print(arrs)\n",
        "print(arrs.dtype)\n",
        "print(type(arrs))\n",
        "\n",
        "print()\n",
        "\n",
        "arrf=np.array([1,2,3], dtype = 'f')\n",
        "print(arrf)\n",
        "print(arrf.dtype)\n",
        "print(type(arrf))\n",
        "print()\n",
        "print(arrf.astype(int))"
      ],
      "metadata": {
        "colab": {
          "base_uri": "https://localhost:8080/"
        },
        "id": "Fpsn5S7m3qys",
        "outputId": "1dffc706-2c00-4cb4-f722-03b9fe99638d"
      },
      "execution_count": 76,
      "outputs": [
        {
          "output_type": "stream",
          "name": "stdout",
          "text": [
            "[b'1' b'2' b'3']\n",
            "|S1\n",
            "<class 'numpy.ndarray'>\n",
            "\n",
            "[1. 2. 3.]\n",
            "float32\n",
            "<class 'numpy.ndarray'>\n",
            "\n",
            "[1 2 3]\n"
          ]
        }
      ]
    },
    {
      "cell_type": "code",
      "source": [
        "arr=np.array([1,2,3,4,5])\n",
        "x=arr.copy()\n",
        "y=arr.view() #copy is a new array and view is just a view of the orginal array. any changes made to original array won't affect copy and vice-versa, changes made on either one of view or ori. array affect e/o\n",
        "arr[2]=745\n",
        "print(arr)\n",
        "print(x)\n",
        "print(y)"
      ],
      "metadata": {
        "colab": {
          "base_uri": "https://localhost:8080/"
        },
        "id": "GDTPWauh4rvM",
        "outputId": "32538985-b158-4d79-ec04-8cf42db60ad3"
      },
      "execution_count": 79,
      "outputs": [
        {
          "output_type": "stream",
          "name": "stdout",
          "text": [
            "[  1   2 745   4   5]\n",
            "[1 2 3 4 5]\n",
            "[  1   2 745   4   5]\n"
          ]
        }
      ]
    },
    {
      "cell_type": "code",
      "source": [
        "ar=np.array([[1,2,4],[3,4,5]])\n",
        "print(ar.shape)\n",
        "print(ar.reshape(3,2)) # for reshaping, size must be equal\n",
        "print(ar.reshape(6,1))\n",
        "print(ar.reshape(1,6))"
      ],
      "metadata": {
        "colab": {
          "base_uri": "https://localhost:8080/"
        },
        "id": "TYUP_YJ06hKP",
        "outputId": "d59e2f55-9d96-4dd6-80aa-71cedb07fa7d"
      },
      "execution_count": 86,
      "outputs": [
        {
          "output_type": "stream",
          "name": "stdout",
          "text": [
            "(2, 3)\n",
            "[[1 2]\n",
            " [4 3]\n",
            " [4 5]]\n",
            "[[1]\n",
            " [2]\n",
            " [4]\n",
            " [3]\n",
            " [4]\n",
            " [5]]\n",
            "[[1 2 4 3 4 5]]\n"
          ]
        }
      ]
    },
    {
      "cell_type": "code",
      "source": [
        "ar=np.array([1,2,3,4,5,6,7,8,9,10,11,12])\n",
        "print(ar.reshape(2,2,3)) # the reshape attribute returns a view"
      ],
      "metadata": {
        "colab": {
          "base_uri": "https://localhost:8080/"
        },
        "id": "SPUW3ACo7oql",
        "outputId": "19bbeeb6-345a-4737-b0ad-98280fd0aad8"
      },
      "execution_count": 87,
      "outputs": [
        {
          "output_type": "stream",
          "name": "stdout",
          "text": [
            "[[[ 1  2  3]\n",
            "  [ 4  5  6]]\n",
            "\n",
            " [[ 7  8  9]\n",
            "  [10 11 12]]]\n"
          ]
        }
      ]
    },
    {
      "cell_type": "code",
      "source": [
        "ar=np.array([[1,2,4],[3,4,5]])\n",
        "print(ar.reshape(-1)) #flattening an array\n",
        "ar=np.array([[1,2,3],[4,5,6],[7,8,9]])\n",
        "print(ar.reshape(-1))"
      ],
      "metadata": {
        "colab": {
          "base_uri": "https://localhost:8080/"
        },
        "id": "ImCWknZi8hD5",
        "outputId": "7c47393b-3c44-4a28-9704-bcd8f635b4fa"
      },
      "execution_count": 89,
      "outputs": [
        {
          "output_type": "stream",
          "name": "stdout",
          "text": [
            "[1 2 4 3 4 5]\n",
            "[1 2 3 4 5 6 7 8 9]\n"
          ]
        }
      ]
    },
    {
      "cell_type": "code",
      "source": [
        "ar=np.array([[1,2,3],[4,5,6],[7,8,9]])\n",
        "for x in ar:\n",
        "  print(x)\n",
        "print()\n",
        "for x in ar:\n",
        "  for y in x:\n",
        "    print(y, end=\" \")\n",
        "print()\n",
        "for x in np.nditer(ar):\n",
        "  print(x,end=' ')\n",
        "print()\n",
        "for i in np.nditer(ar[:,::2]):\n",
        "  print(i, end=' ')\n",
        "print()\n",
        "for i in np.nditer(ar[::2]):\n",
        "  print(i, end=' ')\n"
      ],
      "metadata": {
        "colab": {
          "base_uri": "https://localhost:8080/"
        },
        "id": "jzJ8_-d58wq6",
        "outputId": "9d6e5c72-0ea2-454f-a1d2-921917f73c56"
      },
      "execution_count": 97,
      "outputs": [
        {
          "output_type": "stream",
          "name": "stdout",
          "text": [
            "[1 2 3]\n",
            "[4 5 6]\n",
            "[7 8 9]\n",
            "\n",
            "1 2 3 4 5 6 7 8 9 \n",
            "1 2 3 4 5 6 7 8 9 \n",
            "1 3 4 6 7 9 \n",
            "1 2 3 7 8 9 "
          ]
        }
      ]
    },
    {
      "cell_type": "code",
      "source": [
        "ar=np.array([[1,2,3],[4,5,6],[7,8,9]])\n",
        "for indx, i in np.ndenumerate(ar):\n",
        "  print(indx, i)\n",
        "# the first part of the np.ndenumerate is the index, and second the , for multi-dimensional arrays, the returned index is a tuple\n",
        "\n"
      ],
      "metadata": {
        "colab": {
          "base_uri": "https://localhost:8080/"
        },
        "id": "OUNfDQ0LBWDm",
        "outputId": "4ed1a594-d50b-4f18-f5c0-25f1b6ad9d9f"
      },
      "execution_count": 104,
      "outputs": [
        {
          "output_type": "stream",
          "name": "stdout",
          "text": [
            "(0, 0) 1\n",
            "(0, 1) 2\n",
            "(0, 2) 3\n",
            "(1, 0) 4\n",
            "(1, 1) 5\n",
            "(1, 2) 6\n",
            "(2, 0) 7\n",
            "(2, 1) 8\n",
            "(2, 2) 9\n"
          ]
        }
      ]
    },
    {
      "cell_type": "code",
      "source": [
        "ar=np.array([1,2,3,4])\n",
        "ar1=np.array([5,6,7,8,9])\n",
        "arr=np.concatenate((ar,ar1))\n",
        "print(arr)"
      ],
      "metadata": {
        "colab": {
          "base_uri": "https://localhost:8080/"
        },
        "id": "QUsNxX-rCi3c",
        "outputId": "17a0c561-b4a7-4334-8596-6fb2af962fc3"
      },
      "execution_count": 106,
      "outputs": [
        {
          "output_type": "stream",
          "name": "stdout",
          "text": [
            "[1 2 3 4 5 6 7 8 9]\n"
          ]
        }
      ]
    },
    {
      "cell_type": "code",
      "source": [
        "ar=np.array([[1,2,3],[4,5,6]])\n",
        "ar1=np.array([[7,8,9],[10,11,12]])\n",
        "print(np.concatenate((ar,ar1)))\n",
        "print()\n",
        "print(np.concatenate((ar,ar1),axis=1))\n",
        "#1 => horizontal (along rows) , 0 => vertical (along columns)\n",
        "print()\n",
        "print(np.concatenate((ar,ar1),axis=0))\n",
        "#default axis => 0 (along colums concatenation)"
      ],
      "metadata": {
        "colab": {
          "base_uri": "https://localhost:8080/"
        },
        "id": "OPlOYTvQBhnW",
        "outputId": "90cc339e-aad8-4069-8c35-521733a901d4"
      },
      "execution_count": 113,
      "outputs": [
        {
          "output_type": "stream",
          "name": "stdout",
          "text": [
            "[[ 1  2  3]\n",
            " [ 4  5  6]\n",
            " [ 7  8  9]\n",
            " [10 11 12]]\n",
            "\n",
            "[[ 1  2  3  7  8  9]\n",
            " [ 4  5  6 10 11 12]]\n",
            "\n",
            "[[ 1  2  3]\n",
            " [ 4  5  6]\n",
            " [ 7  8  9]\n",
            " [10 11 12]]\n"
          ]
        }
      ]
    },
    {
      "cell_type": "code",
      "source": [
        "ar=np.array([1,2,3])\n",
        "ar1=np.array([7,8,9])\n",
        "print(np.stack((ar,ar1))) #default axis => 0\n",
        "print(np.stack((ar,ar1),axis=1)) #stacking along height (depth)"
      ],
      "metadata": {
        "colab": {
          "base_uri": "https://localhost:8080/"
        },
        "id": "Bnm3WTdjFTQB",
        "outputId": "7e31b262-9ad9-496f-ae23-a9f3c190e740"
      },
      "execution_count": 122,
      "outputs": [
        {
          "output_type": "stream",
          "name": "stdout",
          "text": [
            "[[1 2 3]\n",
            " [7 8 9]]\n",
            "[[1 7]\n",
            " [2 8]\n",
            " [3 9]]\n"
          ]
        }
      ]
    },
    {
      "cell_type": "code",
      "source": [
        "# or to stack along rows: use hstack (horizontal stacking)\n",
        "print(np.hstack((ar,ar1)))\n",
        "# or to stack along colums: use vstack (vertical stacking)\n",
        "print(np.vstack((ar,ar1)))\n",
        "# or to stack along height\n",
        "print(np.dstack((ar,ar1)))"
      ],
      "metadata": {
        "colab": {
          "base_uri": "https://localhost:8080/"
        },
        "id": "ekv0bQ26Gmkz",
        "outputId": "8f13e806-b1dc-44f8-dc8e-28d61796794c"
      },
      "execution_count": 118,
      "outputs": [
        {
          "output_type": "stream",
          "name": "stdout",
          "text": [
            "[1 2 3 7 8 9]\n",
            "[[1 2 3]\n",
            " [7 8 9]]\n",
            "[[[1 7]\n",
            "  [2 8]\n",
            "  [3 9]]]\n"
          ]
        }
      ]
    },
    {
      "cell_type": "code",
      "source": [
        "arr=np.array([1,2,3,4,5,6])\n",
        "print(np.array_split(arr,3))\n",
        "arr2=np.array([1,2,3,4,5])\n",
        "print(np.array_split(arr2,3))"
      ],
      "metadata": {
        "colab": {
          "base_uri": "https://localhost:8080/"
        },
        "id": "l3v0iiPSIG7p",
        "outputId": "6f1f182d-4d2d-41f2-9a88-b5758dfe0894"
      },
      "execution_count": 127,
      "outputs": [
        {
          "output_type": "stream",
          "name": "stdout",
          "text": [
            "[array([1, 2]), array([3, 4]), array([5, 6])]\n",
            "[array([1, 2]), array([3, 4]), array([5])]\n",
            "[array([1, 2]), array([3, 4]), array([5])]\n"
          ]
        }
      ]
    },
    {
      "cell_type": "code",
      "source": [
        "ar=np.array([[1,2,3],[4,5,6],[7,8,9],[10,11,12],[13,14,15],[16,17,18]])\n",
        "print(np.hsplit(ar,3))\n",
        "print(np.vsplit(ar,3))"
      ],
      "metadata": {
        "colab": {
          "base_uri": "https://localhost:8080/"
        },
        "id": "qAjJkH9LNIUP",
        "outputId": "a6bc83bb-083d-4c07-d11f-70236ef70755"
      },
      "execution_count": 131,
      "outputs": [
        {
          "output_type": "stream",
          "name": "stdout",
          "text": [
            "[array([[ 1],\n",
            "       [ 4],\n",
            "       [ 7],\n",
            "       [10],\n",
            "       [13],\n",
            "       [16]]), array([[ 2],\n",
            "       [ 5],\n",
            "       [ 8],\n",
            "       [11],\n",
            "       [14],\n",
            "       [17]]), array([[ 3],\n",
            "       [ 6],\n",
            "       [ 9],\n",
            "       [12],\n",
            "       [15],\n",
            "       [18]])]\n",
            "[array([[1, 2, 3],\n",
            "       [4, 5, 6]]), array([[ 7,  8,  9],\n",
            "       [10, 11, 12]]), array([[13, 14, 15],\n",
            "       [16, 17, 18]])]\n"
          ]
        }
      ]
    },
    {
      "cell_type": "code",
      "source": [
        "ar=np.array([1,56,2,3,4,5,6])\n",
        "x=np.searchsorted(ar,2)\n",
        "print(x)\n",
        "y=np.searchsorted(ar,56)\n",
        "print(y)\n",
        "z=np.searchsorted(ar,6)\n",
        "print(z)"
      ],
      "metadata": {
        "colab": {
          "base_uri": "https://localhost:8080/"
        },
        "id": "tyNuxr3eP0yg",
        "outputId": "7e724863-9fbd-44d3-87e7-b61702f6d18d"
      },
      "execution_count": 138,
      "outputs": [
        {
          "output_type": "stream",
          "name": "stdout",
          "text": [
            "1\n",
            "7\n",
            "6\n"
          ]
        }
      ]
    },
    {
      "cell_type": "code",
      "source": [
        "arr=np.array([3,5,7])\n",
        "x=np.searchsorted(arr,[2,4,6])\n",
        "print(x)"
      ],
      "metadata": {
        "colab": {
          "base_uri": "https://localhost:8080/"
        },
        "id": "afsW0a4jRcWD",
        "outputId": "fa890c30-6a11-4c87-cb26-788008f2de62"
      },
      "execution_count": 139,
      "outputs": [
        {
          "output_type": "stream",
          "name": "stdout",
          "text": [
            "[0 1 2]\n"
          ]
        }
      ]
    },
    {
      "cell_type": "code",
      "source": [
        "ar=np.array([1,56,2,3,4,5,6])\n",
        "print(np.sort(ar))"
      ],
      "metadata": {
        "colab": {
          "base_uri": "https://localhost:8080/"
        },
        "id": "PWJkWnmpSyKy",
        "outputId": "12231aad-6fa8-475d-864f-7464cbd30f22"
      },
      "execution_count": 141,
      "outputs": [
        {
          "output_type": "stream",
          "name": "stdout",
          "text": [
            "[ 1  2  3  4  5  6 56]\n"
          ]
        }
      ]
    },
    {
      "cell_type": "code",
      "source": [
        "arr=np.array([[7,4,9],[21,9,5]])\n",
        "print(np.sort(arr))"
      ],
      "metadata": {
        "colab": {
          "base_uri": "https://localhost:8080/"
        },
        "id": "ftnqudaqTDS-",
        "outputId": "2ebcbacd-0221-4163-9fce-e4cefe6eb82c"
      },
      "execution_count": 142,
      "outputs": [
        {
          "output_type": "stream",
          "name": "stdout",
          "text": [
            "[[ 4  7  9]\n",
            " [ 5  9 21]]\n"
          ]
        }
      ]
    },
    {
      "cell_type": "code",
      "source": [
        "arr=np.array([7,4,9,22])\n",
        "x=np.where(arr==7)\n",
        "print(x)\n",
        "y=np.where(arr%2==0)\n",
        "print(y)"
      ],
      "metadata": {
        "colab": {
          "base_uri": "https://localhost:8080/"
        },
        "id": "6487VbeMTub-",
        "outputId": "fefa160f-fce0-4575-9aad-d130f6a18cd0"
      },
      "execution_count": 146,
      "outputs": [
        {
          "output_type": "stream",
          "name": "stdout",
          "text": [
            "(array([0]),)\n",
            "(array([1, 3]),)\n"
          ]
        }
      ]
    },
    {
      "cell_type": "code",
      "source": [
        "arr=np.array([1,2,3,4])\n",
        "filter=[]\n",
        "for i in arr:\n",
        "  if i%2==0:\n",
        "    filter.append(i)\n",
        "newarr=np.array(filter)\n",
        "print(newarr)\n",
        "filter1= arr>2\n",
        "print(np.array(filter1))"
      ],
      "metadata": {
        "colab": {
          "base_uri": "https://localhost:8080/"
        },
        "id": "62VQyMaCUzB7",
        "outputId": "140c7aaf-2a21-4c19-8353-aba04d9ec9a9"
      },
      "execution_count": 149,
      "outputs": [
        {
          "output_type": "stream",
          "name": "stdout",
          "text": [
            "[2 4]\n",
            "[False False  True  True]\n"
          ]
        }
      ]
    },
    {
      "cell_type": "code",
      "source": [
        "from numpy import random\n",
        "x=random.randint(100)\n",
        "print(x)\n",
        "y=random.rand()\n",
        "print(y)\n",
        "print(random.randint((100),size=5))\n",
        "print(random.randint((100),size=(2,3)))"
      ],
      "metadata": {
        "colab": {
          "base_uri": "https://localhost:8080/"
        },
        "id": "aD9tVkicWST6",
        "outputId": "c3e95a48-5343-4b55-c44e-f0dbdb9e2fe9"
      },
      "execution_count": 159,
      "outputs": [
        {
          "output_type": "stream",
          "name": "stdout",
          "text": [
            "88\n",
            "0.6768938406775017\n",
            "[48 69 91 91 28]\n",
            "[[28 98 92]\n",
            " [85 79 10]]\n"
          ]
        }
      ]
    }
  ]
}