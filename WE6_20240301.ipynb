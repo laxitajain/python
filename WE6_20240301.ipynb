{
  "nbformat": 4,
  "nbformat_minor": 0,
  "metadata": {
    "colab": {
      "private_outputs": true,
      "provenance": [],
      "include_colab_link": true
    },
    "kernelspec": {
      "name": "python3",
      "display_name": "Python 3"
    },
    "language_info": {
      "name": "python"
    }
  },
  "cells": [
    {
      "cell_type": "markdown",
      "metadata": {
        "id": "view-in-github",
        "colab_type": "text"
      },
      "source": [
        "<a href=\"https://colab.research.google.com/github/laxitajain/python/blob/main/WE6_20240301.ipynb\" target=\"_parent\"><img src=\"https://colab.research.google.com/assets/colab-badge.svg\" alt=\"Open In Colab\"/></a>"
      ]
    },
    {
      "cell_type": "markdown",
      "source": [],
      "metadata": {
        "id": "N1duHSM4RMQd"
      }
    },
    {
      "cell_type": "markdown",
      "source": [
        "A palindromic number reads the same both ways. The largest palindrome made from the product of two digit numbers is $9009 = 91 \\times 99$\n",
        "\n",
        "Find the largest palindrome made from the product of two 3-digit numbers."
      ],
      "metadata": {
        "id": "aDLHgU81Ss6n"
      }
    },
    {
      "cell_type": "code",
      "source": [
        "def reverse(n: int) -> int:\n",
        "    reverse = 0\n",
        "    while n > 0:\n",
        "        reverse = reverse * 10 + n % 10\n",
        "        n //= 10\n",
        "    return reverse\n",
        "\n",
        "def is_palindrome(n: int) -> bool:\n",
        "    return n == reverse(n)\n",
        "\n",
        "def get_palindromes(start: int, limit: int) -> list[int]:\n",
        "    palindromes = []\n",
        "    for a_num in range(start, limit):\n",
        "        for b_num in range(a_num, limit):\n",
        "            if is_palindrome(a_num * b_num):\n",
        "                palindromes.append(a_num * b_num)\n",
        "    return palindromes\n",
        "\n",
        "def euler004() -> int:\n",
        "    return max(get_palindromes(100, 1000))\n"
      ],
      "metadata": {
        "id": "YopyCbePTFKB"
      },
      "execution_count": null,
      "outputs": []
    },
    {
      "cell_type": "code",
      "source": [
        "def euler004_b(start: int, limit: int) -> int:\n",
        "    euler004 = 0\n",
        "    for a_num in range(start, limit):\n",
        "        for b_num in range(a_num, limit):\n",
        "            if is_palindrome(a_num * b_num):\n",
        "                if euler004 < a_num * b_num:\n",
        "                    euler004 = a_num * b_num\n",
        "    return euler004"
      ],
      "metadata": {
        "id": "cJ51K4O4UX3j"
      },
      "execution_count": null,
      "outputs": []
    },
    {
      "cell_type": "code",
      "source": [],
      "metadata": {
        "id": "icHuTo0YZG8s"
      },
      "execution_count": null,
      "outputs": []
    },
    {
      "cell_type": "markdown",
      "source": [
        "# Digits\n",
        "## Write a function that takes an integer and returns the digits of the number\n",
        "\n",
        "Example: $1729 \\Rightarrow [1, 7, 2, 9]$"
      ],
      "metadata": {
        "id": "HUoEB_PSaL_e"
      }
    },
    {
      "cell_type": "code",
      "source": [
        "def num_to_digits(n: int) -> list[int]:\n",
        "    digits = []\n",
        "    while n > 0:\n",
        "        digits.insert(0, n % 10)\n",
        "        n //= 10\n",
        "    return digits"
      ],
      "metadata": {
        "id": "qdD8MarAaU5X"
      },
      "execution_count": null,
      "outputs": []
    },
    {
      "cell_type": "code",
      "source": [
        "def num_to_digits_1(n: int) -> list[int]:\n",
        "    digits, sn = [], str(n)\n",
        "    for ch in sn:\n",
        "        digits.append(int(ch))\n",
        "    return digits"
      ],
      "metadata": {
        "id": "uLkMmi-ld58T"
      },
      "execution_count": null,
      "outputs": []
    },
    {
      "cell_type": "code",
      "source": [
        "num_to_digits(1729)"
      ],
      "metadata": {
        "id": "ZV1Tfh1cfp2h"
      },
      "execution_count": null,
      "outputs": []
    },
    {
      "cell_type": "code",
      "source": [
        "num_to_digits_1(1729)"
      ],
      "metadata": {
        "id": "IyNPWl_yfs5P"
      },
      "execution_count": null,
      "outputs": []
    },
    {
      "cell_type": "markdown",
      "source": [
        "$13, 40, 20, 10, 5, 16, 8, 4, 2, 1$\n",
        "\n",
        "$24, 12, 6, 3, 10, 5, 16, 8, 4, 2, 1$\n",
        "\n",
        "$19, 58, 29, 88, 44, 22, 11, 34, 17, 52, 26, 13, 40, 20, 10, 5, 16, 8, 4, 2, 1$"
      ],
      "metadata": {
        "id": "bycYwC87f-k9"
      }
    },
    {
      "cell_type": "code",
      "source": [],
      "metadata": {
        "id": "s0_Fxzjegut_"
      },
      "execution_count": null,
      "outputs": []
    }
  ]
}