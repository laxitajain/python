{
  "nbformat": 4,
  "nbformat_minor": 0,
  "metadata": {
    "colab": {
      "private_outputs": true,
      "provenance": [],
      "include_colab_link": true
    },
    "kernelspec": {
      "name": "python3",
      "display_name": "Python 3"
    },
    "language_info": {
      "name": "python"
    }
  },
  "cells": [
    {
      "cell_type": "markdown",
      "metadata": {
        "id": "view-in-github",
        "colab_type": "text"
      },
      "source": [
        "<a href=\"https://colab.research.google.com/github/laxitajain/python/blob/main/WE6_20240228.ipynb\" target=\"_parent\"><img src=\"https://colab.research.google.com/assets/colab-badge.svg\" alt=\"Open In Colab\"/></a>"
      ]
    },
    {
      "cell_type": "markdown",
      "source": [
        "# Computational Thinking\n",
        "\n",
        "## Problem 1\n",
        "Given an amount of money (for example an invoice\n",
        "value) round the value to the nearest 10 rupees.\n",
        "\n",
        "Examples:\n",
        "\n",
        "$10.76 \\Rightarrow 10$\n",
        "\n",
        "$12667.20 \\Rightarrow 12670$"
      ],
      "metadata": {
        "id": "aM3s4lp04xjr"
      }
    },
    {
      "cell_type": "code",
      "source": [
        "def nearest_to(amount: float, unit: int) -> int:\n",
        "    units = int(amount/unit + 0.5)\n",
        "    return units * unit\n",
        "nearest_to(78.90,10)"
      ],
      "metadata": {
        "id": "m0JOBTHW4-Gn"
      },
      "execution_count": null,
      "outputs": []
    },
    {
      "cell_type": "markdown",
      "source": [
        "# Naming is 90% of programming"
      ],
      "metadata": {
        "id": "I1A_PiF_Et_h"
      }
    },
    {
      "cell_type": "code",
      "source": [
        "def calculate_lucky_num(date: int) -> int:\n",
        "    '''Treats the date as an eight digit number\n",
        "    and sums the digits till a number below\n",
        "    10 is arrived at'''\n",
        "    lucky_num = 0\n",
        "    while date > 0:\n",
        "        lucky_num += date % 10\n",
        "        date //= 10\n",
        "    if lucky_num < 10:\n",
        "        return lucky_num\n",
        "    else:\n",
        "        return calculate_lucky_num(lucky_num)"
      ],
      "metadata": {
        "id": "eE7fyop0FeLG"
      },
      "execution_count": null,
      "outputs": []
    },
    {
      "cell_type": "code",
      "source": [
        "calculate_lucky_num(17112001)"
      ],
      "metadata": {
        "id": "5KWPKV_pHl81"
      },
      "execution_count": null,
      "outputs": []
    },
    {
      "cell_type": "code",
      "source": [
        "def multiples_upto(of: int, upto: int):\n",
        "    return range(of, upto, of)"
      ],
      "metadata": {
        "id": "d_e0HV8GHvDU"
      },
      "execution_count": null,
      "outputs": []
    },
    {
      "cell_type": "code",
      "source": [
        "def euler001_A(limit: int) -> int:\n",
        "    return sum(multiples_upto(3, limit)) +\\\n",
        "           sum(multiples_upto(5, limit)) -\\\n",
        "           sum(multiples_upto(3 * 5, limit))"
      ],
      "metadata": {
        "id": "F3NPzy_LL4wb"
      },
      "execution_count": null,
      "outputs": []
    },
    {
      "cell_type": "code",
      "source": [
        "list(range(3, 40, 3))"
      ],
      "metadata": {
        "id": "g_Es5OmvMbPt"
      },
      "execution_count": null,
      "outputs": []
    },
    {
      "cell_type": "code",
      "source": [],
      "metadata": {
        "id": "BIPG65KVROPc"
      },
      "execution_count": null,
      "outputs": []
    }
  ]
}