{
 "cells": [
  {
   "cell_type": "markdown",
   "id": "b1123955",
   "metadata": {},
   "source": [
    "# Name: Laxita Jain Roll No.:E202 B.Tech. C.S. (A) Batch A1 EXP3\n"
   ]
  },
  {
   "cell_type": "code",
   "execution_count": 2,
   "id": "e8fcc399",
   "metadata": {},
   "outputs": [
    {
     "name": "stdout",
     "output_type": "stream",
     "text": [
      "Enter the number:3\n",
      "The sum of the first 3 natural numbers is 6.\n"
     ]
    }
   ],
   "source": [
    "#1\n",
    "n=int(input(\"Enter the number:\"))\n",
    "s=0\n",
    "for i in range(1,n+1):\n",
    "    s+=i\n",
    "print(f\"The sum of the first {n} natural numbers is {s}.\")"
   ]
  },
  {
   "cell_type": "code",
   "execution_count": 8,
   "id": "2aa33582",
   "metadata": {},
   "outputs": [
    {
     "name": "stdout",
     "output_type": "stream",
     "text": [
      "Enter the first number:45\n",
      "Enter the second number:48\n",
      "The number of even numbers are: 2\n",
      "The number of odd numbers are: 2\n"
     ]
    }
   ],
   "source": [
    "#2\n",
    "p=int(input(\"Enter the first number:\"))\n",
    "q=int(input(\"Enter the second number:\"))\n",
    "even=0\n",
    "odd=0\n",
    "if p>q:\n",
    "    p,q=q,p\n",
    "for i in range(p,q+1):\n",
    "    if i%2==0:\n",
    "        even+=1\n",
    "    else:\n",
    "        odd+=1\n",
    "print(\"The number of even numbers are:\",even)\n",
    "print(\"The number of odd numbers are:\",odd)\n",
    "        "
   ]
  },
  {
   "cell_type": "code",
   "execution_count": 26,
   "id": "1b5db30d",
   "metadata": {},
   "outputs": [
    {
     "name": "stdout",
     "output_type": "stream",
     "text": [
      "Enter the number: 11\n",
      "11 is a prime number.\n"
     ]
    }
   ],
   "source": [
    "#3\n",
    "n=int(input(\"Enter the number: \"))\n",
    "if n==1 or n==0:\n",
    "    print(f\"{n} is a special number!\")\n",
    "else:\n",
    "    flag=False\n",
    "    for i in range(2,(n//2)+1):\n",
    "        if n%i==0:\n",
    "            flag=True\n",
    "            break\n",
    "if flag:\n",
    "    print(f\"{n} is not a prime number.\")\n",
    "else:\n",
    "    print(f\"{n} is a prime number.\")"
   ]
  },
  {
   "cell_type": "code",
   "execution_count": 32,
   "id": "f46ec384",
   "metadata": {},
   "outputs": [
    {
     "name": "stdout",
     "output_type": "stream",
     "text": [
      "Enter the number: 5\n",
      "0 1 1 2 3 "
     ]
    }
   ],
   "source": [
    "#4\n",
    "n=int(input(\"Enter the number: \"))\n",
    "n1=0\n",
    "n2=1\n",
    "i=0\n",
    "print(n1,n2,end=\" \")\n",
    "while i<=n-3:\n",
    "    n3=n2+n1\n",
    "    n1,n2=n2,n3\n",
    "    print(n3,end=\" \")\n",
    "    i+=1\n",
    " "
   ]
  },
  {
   "cell_type": "code",
   "execution_count": 25,
   "id": "2748e0ba",
   "metadata": {},
   "outputs": [
    {
     "name": "stdout",
     "output_type": "stream",
     "text": [
      "  *\n",
      " ***\n",
      "*****\n"
     ]
    }
   ],
   "source": [
    "#5\n",
    "for i in range(1,4):\n",
    "    for j in range(3,i,-1):\n",
    "        print(\" \",end=\"\")\n",
    "    for k in range(1,2*i):\n",
    "        print(\"*\",end=\"\")\n",
    "    print()"
   ]
  },
  {
   "cell_type": "code",
   "execution_count": 12,
   "id": "c18e4def",
   "metadata": {},
   "outputs": [
    {
     "name": "stdout",
     "output_type": "stream",
     "text": [
      "P\n",
      "y\n",
      "t\n",
      "h\n",
      "o\n",
      "n\n"
     ]
    }
   ],
   "source": [
    "#6\n",
    "a=\"Python\"\n",
    "for i in range(0,len(a)):\n",
    "    print(a[i])"
   ]
  },
  {
   "cell_type": "code",
   "execution_count": 13,
   "id": "2d26ae42",
   "metadata": {},
   "outputs": [
    {
     "name": "stdout",
     "output_type": "stream",
     "text": [
      "P\n",
      "y\n",
      "t\n",
      "h\n",
      "o\n",
      "n\n"
     ]
    }
   ],
   "source": [
    "#7\n",
    "a=\"Python\"\n",
    "i=0\n",
    "while(i<len(a)):\n",
    "    print(a[i])\n",
    "    i+=1"
   ]
  },
  {
   "cell_type": "code",
   "execution_count": 14,
   "id": "d7d5f49d",
   "metadata": {},
   "outputs": [
    {
     "name": "stdout",
     "output_type": "stream",
     "text": [
      "Laxita\n",
      "LAXITA\n",
      "laxita\n",
      "1\n",
      "laxiaa\n"
     ]
    }
   ],
   "source": [
    "#8\n",
    "str=\"laxita\"\n",
    "print(str.capitalize())\n",
    "print(str.upper())\n",
    "print(str.lower())\n",
    "print(str.find(\"a\"))\n",
    "print(str.replace(\"t\",\"a\"))"
   ]
  },
  {
   "cell_type": "code",
   "execution_count": 16,
   "id": "c6230723",
   "metadata": {
    "scrolled": true
   },
   "outputs": [
    {
     "name": "stdout",
     "output_type": "stream",
     "text": [
      "1\n",
      "2\n",
      "4\n",
      "5\n",
      "6\n"
     ]
    }
   ],
   "source": [
    "#9\n",
    "i=0\n",
    "while i<6:\n",
    "    i+=1\n",
    "    if i==3:\n",
    "        continue\n",
    "    print(i)\n",
    "    "
   ]
  },
  {
   "cell_type": "code",
   "execution_count": 17,
   "id": "6d7e4567",
   "metadata": {},
   "outputs": [
    {
     "name": "stdout",
     "output_type": "stream",
     "text": [
      "2\n",
      "3\n",
      "4\n",
      "6\n"
     ]
    }
   ],
   "source": [
    "#10\n",
    "for i in range(2,7):\n",
    "    if i==5:\n",
    "        pass\n",
    "    else:\n",
    "        print(i)"
   ]
  },
  {
   "cell_type": "code",
   "execution_count": null,
   "id": "27763857",
   "metadata": {},
   "outputs": [],
   "source": []
  }
 ],
 "metadata": {
  "kernelspec": {
   "display_name": "Python 3 (ipykernel)",
   "language": "python",
   "name": "python3"
  },
  "language_info": {
   "codemirror_mode": {
    "name": "ipython",
    "version": 3
   },
   "file_extension": ".py",
   "mimetype": "text/x-python",
   "name": "python",
   "nbconvert_exporter": "python",
   "pygments_lexer": "ipython3",
   "version": "3.11.5"
  }
 },
 "nbformat": 4,
 "nbformat_minor": 5
}
