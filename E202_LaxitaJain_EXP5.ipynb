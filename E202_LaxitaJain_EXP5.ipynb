{
 "cells": [
  {
   "cell_type": "markdown",
   "id": "05e67865",
   "metadata": {},
   "source": [
    "# Name: Laxita Jain Roll No.:E202 B.Tech. C.S. (A) BATCH: A1 EXP5"
   ]
  },
  {
   "cell_type": "code",
   "execution_count": 3,
   "id": "cc3a8b95",
   "metadata": {},
   "outputs": [
    {
     "name": "stdout",
     "output_type": "stream",
     "text": [
      "70\n"
     ]
    }
   ],
   "source": [
    "#1\n",
    "import numpy as np\n",
    "from numpy import random\n",
    "x=random.randint(100)\n",
    "print(x)"
   ]
  },
  {
   "cell_type": "code",
   "execution_count": 1,
   "id": "eecf289b",
   "metadata": {},
   "outputs": [
    {
     "name": "stdout",
     "output_type": "stream",
     "text": [
      "Enter the size of array: 5\n",
      "Enter the elements: \n",
      "1\n",
      "21\n",
      "2\n",
      "3\n",
      "4\n",
      "The entered array is:  [ 1 21  2  3  4]\n"
     ]
    }
   ],
   "source": [
    "#2\n",
    "import numpy as np\n",
    "l=[]\n",
    "n=int(input(\"Enter the size of array: \"))\n",
    "print(\"Enter the elements: \")\n",
    "for i in range(n):\n",
    "    c=int(input())\n",
    "    l.append(c)\n",
    "a=np.array(l)\n",
    "print(\"The entered array is: \",a)"
   ]
  },
  {
   "cell_type": "code",
   "execution_count": 5,
   "id": "dd75f395",
   "metadata": {},
   "outputs": [
    {
     "name": "stdout",
     "output_type": "stream",
     "text": [
      "Enter the number of rows: 2\n",
      "Enter the number of columns: 2\n",
      "Enter the elements: \n",
      "1\n",
      "2\n",
      "3\n",
      "4\n",
      "The entered array is: \n",
      "1 2 \n",
      "3 4 \n"
     ]
    }
   ],
   "source": [
    "#3\n",
    "import numpy as np\n",
    "l=[]\n",
    "p=int(input(\"Enter the number of rows: \"))\n",
    "q=int(input(\"Enter the number of columns: \"))\n",
    "print(\"Enter the elements: \")\n",
    "for i in range(p):\n",
    "    i=[]\n",
    "    for j in range(q):\n",
    "        i.append(int(input()))\n",
    "    l.append(i)\n",
    "arr=np.array(l)\n",
    "print(\"The entered array is: \")\n",
    "for i in range(p):\n",
    "    for j in range(q):\n",
    "        print(arr[i][j],end=\" \")\n",
    "    print()"
   ]
  },
  {
   "cell_type": "code",
   "execution_count": 14,
   "id": "d86b33bd",
   "metadata": {},
   "outputs": [
    {
     "name": "stdout",
     "output_type": "stream",
     "text": [
      "Enter the number of rows: 2\n",
      "Enter the number of columns: 2\n",
      "Enter the start of the range: 34\n",
      "Enter the end of the range: 40\n",
      "[[35 35]\n",
      " [36 39]]\n"
     ]
    }
   ],
   "source": [
    "#4\n",
    "import numpy as np\n",
    "from numpy import random\n",
    "l=[]\n",
    "m=int(input(\"Enter the number of rows: \"))\n",
    "n=int(input(\"Enter the number of columns: \"))\n",
    "p=int(input(\"Enter the start of the range: \"))\n",
    "q=int(input(\"Enter the end of the range: \"))\n",
    "x=random.randint(p,q,size=(m,n))\n",
    "print(x)"
   ]
  },
  {
   "cell_type": "code",
   "execution_count": 19,
   "id": "6cab3d0f",
   "metadata": {},
   "outputs": [
    {
     "name": "stdout",
     "output_type": "stream",
     "text": [
      "The shape of tha above array is:  (2, 2)\n",
      "The size of the above array is:  4\n",
      "The dimension of the above array is:  2\n",
      "The item-size of the above array is:  4\n"
     ]
    }
   ],
   "source": [
    "#5\n",
    "print(\"The shape of the above array is: \",x.shape)\n",
    "print(\"The size of the above array is: \",x.size)\n",
    "print(\"The dimension of the above array is: \",x.ndim)\n",
    "print(\"The item-size of the above array is: \",x.itemsize)"
   ]
  },
  {
   "cell_type": "code",
   "execution_count": 6,
   "id": "8930f6c2",
   "metadata": {},
   "outputs": [
    {
     "name": "stdout",
     "output_type": "stream",
     "text": [
      "Enter the reshape row dimension: 4\n",
      "Enter the reshape column dimension: 2\n",
      "The reshaped array is:\n",
      "  [[1 2]\n",
      " [2 3]\n",
      " [2 3]\n",
      " [4 5]]\n"
     ]
    }
   ],
   "source": [
    "#6\n",
    "import numpy as np\n",
    "arr=np.array([[1,2,2,3],[2,3,4,5]])\n",
    "p=int(input(\"Enter the reshape row dimension: \"))\n",
    "q=int(input(\"Enter the reshape column dimension: \"))\n",
    "if p*q!=arr.size:\n",
    "    print(\"Invalid dimensions!\")\n",
    "else:\n",
    "    newarr=arr.reshape(p,q)\n",
    "    print(\"The reshaped array is:\\n \",newarr)"
   ]
  },
  {
   "cell_type": "code",
   "execution_count": 7,
   "id": "c92d9ec1",
   "metadata": {},
   "outputs": [
    {
     "name": "stdout",
     "output_type": "stream",
     "text": [
      "Sliced 1D array:  [1 2 3]\n",
      "Sliced 2D array:\n",
      "  [[2 3]\n",
      " [6 7]]\n"
     ]
    }
   ],
   "source": [
    "#7\n",
    "import numpy as np\n",
    "arr1=np.array([1,2,3,4])\n",
    "arr2=np.array([[1,2,3,4],[5,6,7,8]])\n",
    "print(\"Sliced 1D array: \",arr1[:3])\n",
    "print(\"Sliced 2D array:\\n \",arr2[0:2,1:3])"
   ]
  },
  {
   "cell_type": "code",
   "execution_count": 30,
   "id": "9ec8ff77",
   "metadata": {},
   "outputs": [
    {
     "name": "stdout",
     "output_type": "stream",
     "text": [
      "The sorted array is:  [ 3 21 30 40 99]\n"
     ]
    }
   ],
   "source": [
    "#8\n",
    "import numpy as np\n",
    "arr1=np.array([99,21,3,30,40])\n",
    "print(\"The sorted array is: \",np.sort(arr1))"
   ]
  },
  {
   "cell_type": "code",
   "execution_count": 12,
   "id": "116fa9a1",
   "metadata": {},
   "outputs": [
    {
     "name": "stdout",
     "output_type": "stream",
     "text": [
      "Original array:  [[81 40]\n",
      " [ 8  7]]\n",
      "Array sorted along the first axis:  [[ 8  7]\n",
      " [81 40]]\n",
      "Array sorted along the last axis:  [[40 81]\n",
      " [ 7  8]]\n",
      "Sorted flattened array:  [ 7  8 40 81]\n"
     ]
    }
   ],
   "source": [
    "#9\n",
    "import numpy as np\n",
    "arr=np.array([[81,40],[8,7]])\n",
    "print(\"Original array: \",arr)\n",
    "print(\"Array sorted along the first axis: \",np.sort(arr,axis=0))\n",
    "print(\"Array sorted along the last axis: \",np.sort(arr))\n",
    "print(\"Sorted flattened array: \",np.sort(arr,axis=None))\n"
   ]
  }
 ],
 "metadata": {
  "kernelspec": {
   "display_name": "Python 3 (ipykernel)",
   "language": "python",
   "name": "python3"
  },
  "language_info": {
   "codemirror_mode": {
    "name": "ipython",
    "version": 3
   },
   "file_extension": ".py",
   "mimetype": "text/x-python",
   "name": "python",
   "nbconvert_exporter": "python",
   "pygments_lexer": "ipython3",
   "version": "3.11.5"
  }
 },
 "nbformat": 4,
 "nbformat_minor": 5
}
