{
  "nbformat": 4,
  "nbformat_minor": 0,
  "metadata": {
    "colab": {
      "private_outputs": true,
      "provenance": [],
      "include_colab_link": true
    },
    "kernelspec": {
      "name": "python3",
      "display_name": "Python 3"
    },
    "language_info": {
      "name": "python"
    }
  },
  "cells": [
    {
      "cell_type": "markdown",
      "metadata": {
        "id": "view-in-github",
        "colab_type": "text"
      },
      "source": [
        "<a href=\"https://colab.research.google.com/github/laxitajain/python/blob/main/WE6_20240226.ipynb\" target=\"_parent\"><img src=\"https://colab.research.google.com/assets/colab-badge.svg\" alt=\"Open In Colab\"/></a>"
      ]
    },
    {
      "cell_type": "code",
      "execution_count": null,
      "metadata": {
        "id": "Y6wD3be_mh6e"
      },
      "outputs": [],
      "source": [
        "print(\"Welcome to Python\")"
      ]
    },
    {
      "cell_type": "code",
      "source": [
        "print(\"Hello\", \"Python\")"
      ],
      "metadata": {
        "id": "k_Zv6WUJsnp6"
      },
      "execution_count": null,
      "outputs": []
    },
    {
      "cell_type": "code",
      "source": [
        "a = 17\n",
        "b = 15"
      ],
      "metadata": {
        "id": "9Vs0kipTszFx"
      },
      "execution_count": null,
      "outputs": []
    },
    {
      "cell_type": "code",
      "source": [
        "print(\"The sum of\", a , \"and\", b, \"is\", a + b)"
      ],
      "metadata": {
        "id": "hZ5UmQ7_s4Iv"
      },
      "execution_count": null,
      "outputs": []
    },
    {
      "cell_type": "code",
      "source": [
        "x1 = 123456789123456789\n",
        "x2 = x1 * x1\n",
        "x3 = x2 * x2 * x2\n",
        "x4 = x3 * x3 * x3 * x3\n",
        "x5 = x4 * x4 * x4 * x4 * x4"
      ],
      "metadata": {
        "id": "RDWwIg3Ws_U8"
      },
      "execution_count": null,
      "outputs": []
    },
    {
      "cell_type": "code",
      "source": [
        "print(x5)"
      ],
      "metadata": {
        "id": "P24cGJB2udHK"
      },
      "execution_count": null,
      "outputs": []
    },
    {
      "cell_type": "code",
      "source": [
        "p = 0.5\n",
        "print(p, p * p, p ** 5)"
      ],
      "metadata": {
        "id": "1pSqYtoSuefw"
      },
      "execution_count": null,
      "outputs": []
    },
    {
      "cell_type": "code",
      "source": [
        "q = 0.03125"
      ],
      "metadata": {
        "id": "MhBInTlwvXnV"
      },
      "execution_count": null,
      "outputs": []
    },
    {
      "cell_type": "code",
      "source": [
        "print(q, q * q, q ** 5)"
      ],
      "metadata": {
        "id": "xNnA9SkLvgMQ"
      },
      "execution_count": null,
      "outputs": []
    },
    {
      "cell_type": "code",
      "source": [
        "0.3333"
      ],
      "metadata": {
        "id": "RBY29UMTvjVf"
      },
      "execution_count": null,
      "outputs": []
    },
    {
      "cell_type": "code",
      "source": [
        "0.6666"
      ],
      "metadata": {
        "id": "srG6suTXv0XB"
      },
      "execution_count": null,
      "outputs": []
    },
    {
      "cell_type": "code",
      "source": [
        "3 * 0.3333"
      ],
      "metadata": {
        "id": "iv1gjvJ-v7SA"
      },
      "execution_count": null,
      "outputs": []
    },
    {
      "cell_type": "code",
      "source": [
        "t = 1.0/3"
      ],
      "metadata": {
        "id": "I7Zk8we4v8oG"
      },
      "execution_count": null,
      "outputs": []
    },
    {
      "cell_type": "code",
      "source": [
        "3 * t"
      ],
      "metadata": {
        "id": "Hs6zC5pSwkni"
      },
      "execution_count": null,
      "outputs": []
    },
    {
      "cell_type": "code",
      "source": [
        "3 * t - 1"
      ],
      "metadata": {
        "id": "RUON3YPNwlor"
      },
      "execution_count": null,
      "outputs": []
    },
    {
      "cell_type": "code",
      "source": [
        "th = 1/13"
      ],
      "metadata": {
        "id": "tX5ywcefwnw4"
      },
      "execution_count": null,
      "outputs": []
    },
    {
      "cell_type": "code",
      "source": [
        "13 * th"
      ],
      "metadata": {
        "id": "IqHLwJWcwrUi"
      },
      "execution_count": null,
      "outputs": []
    },
    {
      "cell_type": "code",
      "source": [
        "3.6 * 12.4"
      ],
      "metadata": {
        "id": "_k_Gb0xhwsf9"
      },
      "execution_count": null,
      "outputs": []
    },
    {
      "cell_type": "code",
      "source": [
        "3.6 * 12.4 - 44.64"
      ],
      "metadata": {
        "id": "cRx6tTmzxeF5"
      },
      "execution_count": null,
      "outputs": []
    },
    {
      "cell_type": "code",
      "source": [
        "12.9 * 3.6"
      ],
      "metadata": {
        "id": "fm2jW-iBxg_1"
      },
      "execution_count": null,
      "outputs": []
    },
    {
      "cell_type": "code",
      "source": [
        "12.9 * 3.6 - 46.44"
      ],
      "metadata": {
        "id": "Esa_tVVaxpW4"
      },
      "execution_count": null,
      "outputs": []
    },
    {
      "cell_type": "code",
      "source": [
        "a = 17\n",
        "b = 15"
      ],
      "metadata": {
        "id": "NrPVssHDx10O"
      },
      "execution_count": null,
      "outputs": []
    },
    {
      "cell_type": "code",
      "source": [
        "print(\"The sum of\", a , \"and\", b, \"is\", a + b)"
      ],
      "metadata": {
        "id": "TLaL0KDeybog"
      },
      "execution_count": null,
      "outputs": []
    },
    {
      "cell_type": "code",
      "source": [
        "f'The sum of {a} and {b} is {a + b}'"
      ],
      "metadata": {
        "id": "jwbuQcMSycLb"
      },
      "execution_count": null,
      "outputs": []
    },
    {
      "cell_type": "code",
      "source": [
        "y = x = 7"
      ],
      "metadata": {
        "id": "uVvlbftyyk5C"
      },
      "execution_count": null,
      "outputs": []
    },
    {
      "cell_type": "code",
      "source": [
        "print(p1, p2)"
      ],
      "metadata": {
        "id": "5r1babQxzZZK"
      },
      "execution_count": null,
      "outputs": []
    },
    {
      "cell_type": "code",
      "source": [
        "p1 = p2"
      ],
      "metadata": {
        "id": "JnkyX2PUzd6L"
      },
      "execution_count": null,
      "outputs": []
    },
    {
      "cell_type": "code",
      "source": [
        "p1 = p2 = 7"
      ],
      "metadata": {
        "id": "LLJ-1jCLzha0"
      },
      "execution_count": null,
      "outputs": []
    },
    {
      "cell_type": "code",
      "source": [
        "n = 10\n",
        "while n > 1:\n",
        "    print(n)\n",
        "    n -= 1"
      ],
      "metadata": {
        "id": "mvvlTaBmznTO"
      },
      "execution_count": null,
      "outputs": []
    },
    {
      "cell_type": "code",
      "source": [
        "n = 10\n",
        "while n > 1:\n",
        "    print(n, end=\" \")\n",
        "    n -= 1"
      ],
      "metadata": {
        "id": "WWoSWKC6049B"
      },
      "execution_count": null,
      "outputs": []
    },
    {
      "cell_type": "code",
      "source": [
        "print(\"Hello\", \"Python\")"
      ],
      "metadata": {
        "id": "dQu3IB441NdW"
      },
      "execution_count": null,
      "outputs": []
    },
    {
      "cell_type": "code",
      "source": [
        "print(\"Hello\", \"Python\", sep=\"<>\")"
      ],
      "metadata": {
        "id": "lh7wG95_1Yww"
      },
      "execution_count": null,
      "outputs": []
    },
    {
      "cell_type": "code",
      "source": [
        "f = [0, 1, 1, 2, 3, 5, 8, 13, 21, 34, 55, 89]"
      ],
      "metadata": {
        "id": "VG98Ei2k1cpS"
      },
      "execution_count": null,
      "outputs": []
    },
    {
      "cell_type": "code",
      "source": [
        "for n in f:\n",
        "    print(n)"
      ],
      "metadata": {
        "id": "KIlfZZ_r3VHV"
      },
      "execution_count": null,
      "outputs": []
    },
    {
      "cell_type": "code",
      "source": [
        "print(f[2:7])"
      ],
      "metadata": {
        "id": "5SgceHze3YG9"
      },
      "execution_count": null,
      "outputs": []
    },
    {
      "cell_type": "code",
      "source": [
        "print(f[:7])"
      ],
      "metadata": {
        "id": "Z3tBLXEQ3eJp"
      },
      "execution_count": null,
      "outputs": []
    },
    {
      "cell_type": "code",
      "source": [
        "print(f[5:])"
      ],
      "metadata": {
        "id": "T7_MqSzm3-bn"
      },
      "execution_count": null,
      "outputs": []
    },
    {
      "cell_type": "code",
      "source": [
        "len(f)"
      ],
      "metadata": {
        "id": "AqyODeYL4BAn"
      },
      "execution_count": null,
      "outputs": []
    },
    {
      "cell_type": "code",
      "source": [
        "f[7:14]"
      ],
      "metadata": {
        "id": "2BYDSqXB4MDJ"
      },
      "execution_count": null,
      "outputs": []
    },
    {
      "cell_type": "code",
      "source": [
        "f[2:9:2]"
      ],
      "metadata": {
        "id": "PiaRmLL64OH3"
      },
      "execution_count": null,
      "outputs": []
    },
    {
      "cell_type": "code",
      "source": [
        "print(1j * 1j)"
      ],
      "metadata": {
        "id": "qO-hoSUP4akw"
      },
      "execution_count": null,
      "outputs": []
    },
    {
      "cell_type": "code",
      "source": [
        "print(j * j)"
      ],
      "metadata": {
        "id": "h1WUuecZ6Ohi"
      },
      "execution_count": null,
      "outputs": []
    },
    {
      "cell_type": "markdown",
      "source": [
        "# if N = p * q\n",
        "# N/p = q"
      ],
      "metadata": {
        "id": "PeJeZQCV7qPB"
      }
    },
    {
      "cell_type": "code",
      "source": [
        "def square(n: int) -> int:\n",
        "    return n * n"
      ],
      "metadata": {
        "id": "y8oD26QE8O3d"
      },
      "execution_count": null,
      "outputs": []
    },
    {
      "cell_type": "code",
      "source": [
        "f = square"
      ],
      "metadata": {
        "id": "KMYMHfB587iW"
      },
      "execution_count": null,
      "outputs": []
    },
    {
      "cell_type": "code",
      "source": [
        "f(8)"
      ],
      "metadata": {
        "id": "R1yTIyOF89E5"
      },
      "execution_count": null,
      "outputs": []
    },
    {
      "cell_type": "markdown",
      "source": [
        "#Problem 1\n",
        "## Euler 1"
      ],
      "metadata": {
        "id": "_lXCgk8p89sR"
      }
    },
    {
      "cell_type": "code",
      "source": [
        "def euler001_1(limit: int) -> int:\n",
        "    n, total = 1, 0\n",
        "    while n < limit:\n",
        "        if n % 3 == 0 or n % 5 == 0:\n",
        "            total += n\n",
        "        n += 1\n",
        "    return total"
      ],
      "metadata": {
        "id": "sM1_QjRQ9Ujy"
      },
      "execution_count": null,
      "outputs": []
    },
    {
      "cell_type": "code",
      "source": [
        "print(euler001_1(10))"
      ],
      "metadata": {
        "id": "exujw_lV9zbz"
      },
      "execution_count": null,
      "outputs": []
    },
    {
      "cell_type": "code",
      "source": [
        "print(euler001_1(1000))"
      ],
      "metadata": {
        "id": "NiM4zMj693Vw"
      },
      "execution_count": null,
      "outputs": []
    },
    {
      "cell_type": "code",
      "source": [
        "def select(n: int) -> bool:\n",
        "    return n % 3 == 0 or n % 5 == 0"
      ],
      "metadata": {
        "id": "qGcUqCt-96da"
      },
      "execution_count": null,
      "outputs": []
    },
    {
      "cell_type": "code",
      "source": [
        "def euler001_2(limit: int) -> int:\n",
        "    n, total = 1, 0\n",
        "    while n < limit:\n",
        "        if select(n):\n",
        "            total += n\n",
        "        n += 1\n",
        "    return total"
      ],
      "metadata": {
        "id": "JpWBqOTA-7Mb"
      },
      "execution_count": null,
      "outputs": []
    },
    {
      "cell_type": "code",
      "source": [
        "print(euler001_2(1000))"
      ],
      "metadata": {
        "id": "LkoKoxgO_B96"
      },
      "execution_count": null,
      "outputs": []
    },
    {
      "cell_type": "code",
      "source": [
        "def euler001_3(limit: int) -> int:\n",
        "    total = 0\n",
        "    for n in range(1, limit):\n",
        "        if select(n):\n",
        "            total += n\n",
        "    return total"
      ],
      "metadata": {
        "id": "E5L1Nysj_Ecb"
      },
      "execution_count": null,
      "outputs": []
    },
    {
      "cell_type": "code",
      "source": [
        "print(euler001_3(1000))"
      ],
      "metadata": {
        "id": "hgg08JNi_UCY"
      },
      "execution_count": null,
      "outputs": []
    },
    {
      "cell_type": "code",
      "source": [
        "!python --version"
      ],
      "metadata": {
        "id": "2Ksu5weZ_XUf"
      },
      "execution_count": null,
      "outputs": []
    },
    {
      "cell_type": "code",
      "source": [
        "range(10)"
      ],
      "metadata": {
        "id": "3MEBfdmE_poN"
      },
      "execution_count": null,
      "outputs": []
    },
    {
      "cell_type": "code",
      "source": [
        "list(range(10))"
      ],
      "metadata": {
        "id": "BQcexFv7AN2c"
      },
      "execution_count": null,
      "outputs": []
    },
    {
      "cell_type": "code",
      "source": [
        "list(range(3, 15))"
      ],
      "metadata": {
        "id": "TLrIQuPRARE3"
      },
      "execution_count": null,
      "outputs": []
    },
    {
      "cell_type": "code",
      "source": [
        "list(range(14, 49, 3))"
      ],
      "metadata": {
        "id": "2lJgfcJXAVoL"
      },
      "execution_count": null,
      "outputs": []
    },
    {
      "cell_type": "code",
      "source": [
        "def euler001_4(limit: int) -> int:\n",
        "    return sum(range(3, limit, 3)) + sum(range(5, limit, 5)) - sum(range(15, limit, 15))"
      ],
      "metadata": {
        "id": "_VT9dp-3AcOw"
      },
      "execution_count": null,
      "outputs": []
    },
    {
      "cell_type": "code",
      "source": [
        "print(euler001_4(1000))"
      ],
      "metadata": {
        "id": "QjLHOzyaA-ti"
      },
      "execution_count": null,
      "outputs": []
    },
    {
      "cell_type": "code",
      "source": [
        "def euler001_5(limit: int) -> int:\n",
        "    return sum(set(range(3, limit, 3)) | set(range(5, limit, 5)))"
      ],
      "metadata": {
        "id": "5rdf5SnSBBE4"
      },
      "execution_count": null,
      "outputs": []
    },
    {
      "cell_type": "code",
      "source": [
        "print(euler001_5(1000))"
      ],
      "metadata": {
        "id": "auJ_UatvBq-E"
      },
      "execution_count": null,
      "outputs": []
    },
    {
      "cell_type": "code",
      "source": [
        "for i in range(7):\n",
        "    print(i, i * i, sep=\",\", end=\"#\")"
      ],
      "metadata": {
        "id": "savBQe8gB5Vw"
      },
      "execution_count": null,
      "outputs": []
    },
    {
      "cell_type": "code",
      "source": [],
      "metadata": {
        "id": "SW7MHE7wDYrr"
      },
      "execution_count": null,
      "outputs": []
    }
  ]
}