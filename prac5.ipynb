{
  "nbformat": 4,
  "nbformat_minor": 0,
  "metadata": {
    "colab": {
      "provenance": [],
      "authorship_tag": "ABX9TyNI2CaJqXnel23xBETfIwA+",
      "include_colab_link": true
    },
    "kernelspec": {
      "name": "python3",
      "display_name": "Python 3"
    },
    "language_info": {
      "name": "python"
    }
  },
  "cells": [
    {
      "cell_type": "markdown",
      "metadata": {
        "id": "view-in-github",
        "colab_type": "text"
      },
      "source": [
        "<a href=\"https://colab.research.google.com/github/laxitajain/python/blob/main/prac5.ipynb\" target=\"_parent\"><img src=\"https://colab.research.google.com/assets/colab-badge.svg\" alt=\"Open In Colab\"/></a>"
      ]
    },
    {
      "cell_type": "code",
      "execution_count": 1,
      "metadata": {
        "colab": {
          "base_uri": "https://localhost:8080/"
        },
        "id": "GmKKm23Wg5uH",
        "outputId": "6447bb0b-775b-40e1-bff6-ce5b55a5f5a7"
      },
      "outputs": [
        {
          "output_type": "stream",
          "name": "stdout",
          "text": [
            "Enter the number of elements you wish to enter: 5\n",
            "Enter the elements: \n",
            "1\n",
            "2\n",
            "3\n",
            "6\n",
            "21\n",
            "[ 1  2  3  6 21]\n"
          ]
        }
      ],
      "source": [
        "import numpy as np\n",
        "n=int(input(\"Enter the number of elements you wish to enter: \"))\n",
        "print(\"Enter the elements: \")\n",
        "l=[]\n",
        "for i in range(n):\n",
        "  c=int(input())\n",
        "  l.append(c)\n",
        "ar=np.array(l)\n",
        "print(ar)"
      ]
    },
    {
      "cell_type": "code",
      "source": [
        "import numpy as np\n",
        "m=int(input(\"Enter the number of rows: \"))\n",
        "n=int(input(\"Enter the number of columns: \"))\n",
        "print(\"Enter the elements: \")\n",
        "l=[]\n",
        "for i in range(m):\n",
        "  i=[]\n",
        "  for j in range(n):\n",
        "    i.append(int(input()))\n",
        "  l.append(i)\n",
        "ar=np.array(l)\n",
        "print(ar)"
      ],
      "metadata": {
        "colab": {
          "base_uri": "https://localhost:8080/"
        },
        "id": "uJ5P82kUiluB",
        "outputId": "849e5b23-b019-451c-f0a8-3b4fa57fa145"
      },
      "execution_count": 7,
      "outputs": [
        {
          "output_type": "stream",
          "name": "stdout",
          "text": [
            "Enter the number of rows: 2\n",
            "Enter the number of columns: 3\n",
            "Enter the elements: \n",
            "2\n",
            "1\n",
            "3\n",
            "4\n",
            "5\n",
            "6\n",
            "[[2 1 3]\n",
            " [4 5 6]]\n"
          ]
        }
      ]
    },
    {
      "cell_type": "code",
      "source": [
        "import numpy as np\n",
        "m=int(input())\n",
        "n=int(input())\n",
        "l=[]\n",
        "for i in range(m):\n",
        "  i=[]\n",
        "  for j in range(n):\n",
        "    i.append(int(input()))\n",
        "  l.append(i)\n",
        "ar=np.array(l)\n",
        "print(ar)"
      ],
      "metadata": {
        "colab": {
          "base_uri": "https://localhost:8080/"
        },
        "id": "IpYBBib0kWhK",
        "outputId": "6b68ee8b-2085-4cbb-8c2a-7b687b7157a4"
      },
      "execution_count": 8,
      "outputs": [
        {
          "output_type": "stream",
          "name": "stdout",
          "text": [
            "2\n",
            "3\n",
            "1\n",
            "2\n",
            "3\n",
            "21\n",
            "7\n",
            "9\n",
            "[[ 1  2  3]\n",
            " [21  7  9]]\n"
          ]
        }
      ]
    },
    {
      "cell_type": "code",
      "source": [
        "print(ar.shape)\n",
        "print(ar.size)\n",
        "print(ar.ndim)\n",
        "print(ar.dtype)\n",
        "print(ar.itemsize)\n",
        "print(ar.data)"
      ],
      "metadata": {
        "colab": {
          "base_uri": "https://localhost:8080/"
        },
        "id": "s04uifKyk8fb",
        "outputId": "86bbb998-510b-4a16-b8d3-239fdba921a0"
      },
      "execution_count": 14,
      "outputs": [
        {
          "output_type": "stream",
          "name": "stdout",
          "text": [
            "(2, 3)\n",
            "6\n",
            "2\n",
            "int64\n",
            "8\n",
            "<memory at 0x7eced06175e0>\n"
          ]
        }
      ]
    },
    {
      "cell_type": "code",
      "source": [
        "m=int(input(\"Enter the no. of rows: \"))\n",
        "n=int(input(\"Enter the no. of columns: \"))\n",
        "p=int(input())\n",
        "q=int(input())\n",
        "import numpy as np\n",
        "from numpy import random\n",
        "newarr=random.randint(p,q,size=(m,n))\n",
        "print(newarr)"
      ],
      "metadata": {
        "colab": {
          "base_uri": "https://localhost:8080/"
        },
        "id": "nKqB8vJhmgWJ",
        "outputId": "7e24036a-239f-428b-af8a-54b12801a11e"
      },
      "execution_count": 16,
      "outputs": [
        {
          "output_type": "stream",
          "name": "stdout",
          "text": [
            "Enter the no. of rows: 2\n",
            "Enter the no. of columns: 3\n",
            "50\n",
            "100\n",
            "[[59 92 96]\n",
            " [75 65 78]]\n"
          ]
        }
      ]
    },
    {
      "cell_type": "code",
      "source": [
        "arr=[1,2,3,4]\n",
        "a=np.array(arr)\n",
        "print(a[2:])\n",
        "arr2=[[1,2,3],[4,5,6]]\n",
        "b=np.array(arr2)\n",
        "print(b[1:,:2])"
      ],
      "metadata": {
        "colab": {
          "base_uri": "https://localhost:8080/"
        },
        "id": "36z98pzNprpO",
        "outputId": "a7acef0b-8fc6-4e3c-ff8f-1f90068a5f96"
      },
      "execution_count": 17,
      "outputs": [
        {
          "output_type": "stream",
          "name": "stdout",
          "text": [
            "[3 4]\n",
            "[[4 5]]\n"
          ]
        }
      ]
    },
    {
      "cell_type": "code",
      "source": [
        "p=int(input())\n",
        "q=int(input())\n",
        "if p*q!=a.size:\n",
        "  print(\"Invalid reshape commands\")\n",
        "else:\n",
        "  print(a.reshape(p,q))\n"
      ],
      "metadata": {
        "colab": {
          "base_uri": "https://localhost:8080/"
        },
        "id": "DcF_t-QoqSHS",
        "outputId": "592b0782-b136-44c4-bba2-30258ab73034"
      },
      "execution_count": 20,
      "outputs": [
        {
          "output_type": "stream",
          "name": "stdout",
          "text": [
            "2\n",
            "2\n",
            "[[1 2]\n",
            " [3 4]]\n"
          ]
        }
      ]
    },
    {
      "cell_type": "code",
      "source": [
        "a=np.array([7,4,9])\n",
        "a=np.sort(a)\n",
        "print(a)"
      ],
      "metadata": {
        "colab": {
          "base_uri": "https://localhost:8080/"
        },
        "id": "qOYXcXNjq6dF",
        "outputId": "e87ec577-6cc0-4b0c-ec6a-45b7e910f474"
      },
      "execution_count": 24,
      "outputs": [
        {
          "output_type": "stream",
          "name": "stdout",
          "text": [
            "[4 7 9]\n"
          ]
        }
      ]
    },
    {
      "cell_type": "code",
      "source": [
        "a=np.array([[21,9],[7,4]])\n",
        "print(np.sort(a,axis=0))\n",
        "print(np.sort(a))\n",
        "print(np.sort(a,axis=None))"
      ],
      "metadata": {
        "colab": {
          "base_uri": "https://localhost:8080/"
        },
        "id": "Q1Bg93GxrgUC",
        "outputId": "c344bde5-cf62-4883-8aa4-1f1e8950263a"
      },
      "execution_count": 30,
      "outputs": [
        {
          "output_type": "stream",
          "name": "stdout",
          "text": [
            "[[ 7  4]\n",
            " [21  9]]\n",
            "[[ 9 21]\n",
            " [ 4  7]]\n",
            "[[ 9 21]\n",
            " [ 4  7]]\n",
            "[ 4  7  9 21]\n"
          ]
        }
      ]
    },
    {
      "cell_type": "code",
      "source": [
        "a=np.array([1,2,3])\n",
        "b=np.array([4,5,6])\n",
        "print(np.add(a,b))"
      ],
      "metadata": {
        "colab": {
          "base_uri": "https://localhost:8080/"
        },
        "id": "_dBJroaatzJt",
        "outputId": "4edbda47-5e34-42a0-e4cd-c56c58e44455"
      },
      "execution_count": 34,
      "outputs": [
        {
          "output_type": "stream",
          "name": "stdout",
          "text": [
            "[5 7 9]\n",
            "[ 4 10 18]\n",
            "[1 2 3]\n"
          ]
        }
      ]
    },
    {
      "cell_type": "code",
      "source": [
        "a=np.array([[4,5,6],[7,8,9],[10,11,12]])\n",
        "print(np.transpose(a))\n",
        "print(np.linalg.inv(a))\n",
        "print(a.T)"
      ],
      "metadata": {
        "colab": {
          "base_uri": "https://localhost:8080/"
        },
        "id": "iiH39aguvK_Z",
        "outputId": "471db70f-3681-4390-e20c-9f15e79193ef"
      },
      "execution_count": 40,
      "outputs": [
        {
          "output_type": "stream",
          "name": "stdout",
          "text": [
            "[[ 4  7 10]\n",
            " [ 5  8 11]\n",
            " [ 6  9 12]]\n",
            "[[-2.81474977e+14  5.62949953e+14 -2.81474977e+14]\n",
            " [ 5.62949953e+14 -1.12589991e+15  5.62949953e+14]\n",
            " [-2.81474977e+14  5.62949953e+14 -2.81474977e+14]]\n",
            "[[ 4  7 10]\n",
            " [ 5  8 11]\n",
            " [ 6  9 12]]\n"
          ]
        }
      ]
    },
    {
      "cell_type": "code",
      "source": [
        "a=np.array([1,2,3])\n",
        "print(a*2)\n",
        "b=np.array([[1,2,3],[4,5,6]])\n",
        "print(b*2)"
      ],
      "metadata": {
        "colab": {
          "base_uri": "https://localhost:8080/"
        },
        "id": "hYAX-ZTtwj26",
        "outputId": "a5efd7ef-a982-4133-f2ea-4f57f3d8b2dc"
      },
      "execution_count": 42,
      "outputs": [
        {
          "output_type": "stream",
          "name": "stdout",
          "text": [
            "[2 4 6]\n",
            "[[ 2  4  6]\n",
            " [ 8 10 12]]\n"
          ]
        }
      ]
    },
    {
      "cell_type": "code",
      "source": [
        "a=np.array[[1,2],[3,4]]\n",
        "b=np.array[[1,2]]\n",
        "for n in a:\n",
        "  i=[]\n",
        "  for j in b:\n",
        "    i.append()"
      ],
      "metadata": {
        "id": "rpT1xkmzyZa1"
      },
      "execution_count": null,
      "outputs": []
    }
  ]
}