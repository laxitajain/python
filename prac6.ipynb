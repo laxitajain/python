{
 "cells": [
  {
   "cell_type": "code",
   "execution_count": 2,
   "id": "12abe660-eac2-43dd-8ed3-2c6342388343",
   "metadata": {},
   "outputs": [
    {
     "name": "stdout",
     "output_type": "stream",
     "text": [
      "                    John       Doe                 120 jefferson st.\n",
      "0                   Jack  McGinnis                      220 hobo Av.\n",
      "1          John \"Da Man\"    Repici                 120 Jefferson St.\n",
      "2                Stephen     Tyler  7452 Terrace \"At the Plaza\" road\n",
      "3                    NaN  Blankman                               NaN\n",
      "4  Joan \"the bone\", Anne       Jet               9th, at Terrace plc\n"
     ]
    }
   ],
   "source": [
    "import pandas as pd\n",
    "df=pd.read_csv('C:\\\\Users\\\\laxit\\\\Downloads\\\\addresses.csv')\n",
    "print(df)"
   ]
  },
  {
   "cell_type": "code",
   "execution_count": 3,
   "id": "d695d060-d70a-46be-af48-f6572605de8b",
   "metadata": {},
   "outputs": [
    {
     "name": "stdout",
     "output_type": "stream",
     "text": [
      "                    name     brand                           address\n",
      "0                   Jack  McGinnis                      220 hobo Av.\n",
      "1          John \"Da Man\"    Repici                 120 Jefferson St.\n",
      "2                Stephen     Tyler  7452 Terrace \"At the Plaza\" road\n",
      "3                    NaN  Blankman                               NaN\n",
      "4  Joan \"the bone\", Anne       Jet               9th, at Terrace plc\n"
     ]
    }
   ],
   "source": [
    "df.columns=['name','brand','address']\n",
    "print(df)"
   ]
  },
  {
   "cell_type": "code",
   "execution_count": 4,
   "id": "fe8159ea-d5b8-4fb4-8219-442f9e034b4a",
   "metadata": {},
   "outputs": [
    {
     "name": "stdout",
     "output_type": "stream",
     "text": [
      "            name     brand                           address\n",
      "0           Jack  McGinnis                      220 hobo Av.\n",
      "1  John \"Da Man\"    Repici                 120 Jefferson St.\n",
      "2        Stephen     Tyler  7452 Terrace \"At the Plaza\" road\n"
     ]
    }
   ],
   "source": [
    "print(df.head(3))"
   ]
  },
  {
   "cell_type": "code",
   "execution_count": 5,
   "id": "f697e746-02d8-49f9-81a9-82dc0eb52519",
   "metadata": {},
   "outputs": [
    {
     "name": "stdout",
     "output_type": "stream",
     "text": [
      "                    name     brand                           address\n",
      "2                Stephen     Tyler  7452 Terrace \"At the Plaza\" road\n",
      "3                    NaN  Blankman                               NaN\n",
      "4  Joan \"the bone\", Anne       Jet               9th, at Terrace plc\n"
     ]
    }
   ],
   "source": [
    "print(df.tail(3))"
   ]
  },
  {
   "cell_type": "code",
   "execution_count": 6,
   "id": "80dd7ee0-c236-46b6-a913-3e0829074d3a",
   "metadata": {},
   "outputs": [
    {
     "name": "stdout",
     "output_type": "stream",
     "text": [
      "                    name     brand                           address\n",
      "0                   Jack  McGinnis                      220 hobo Av.\n",
      "1          John \"Da Man\"    Repici                 120 Jefferson St.\n",
      "2                Stephen     Tyler  7452 Terrace \"At the Plaza\" road\n",
      "3                    NaN  Blankman                               NaN\n",
      "4  Joan \"the bone\", Anne       Jet               9th, at Terrace plc\n"
     ]
    }
   ],
   "source": [
    "print(df.head(5))"
   ]
  },
  {
   "cell_type": "code",
   "execution_count": 7,
   "id": "cdaecf13-87fc-4e23-b8d2-8ca95542db44",
   "metadata": {},
   "outputs": [
    {
     "name": "stdout",
     "output_type": "stream",
     "text": [
      "name       object\n",
      "brand      object\n",
      "address    object\n",
      "dtype: object\n",
      "        name     brand       address\n",
      "count      4         5             4\n",
      "unique     4         5             4\n",
      "top     Jack  McGinnis  220 hobo Av.\n",
      "freq       1         1             1\n",
      "<class 'pandas.core.frame.DataFrame'>\n",
      "RangeIndex: 5 entries, 0 to 4\n",
      "Data columns (total 3 columns):\n",
      " #   Column   Non-Null Count  Dtype \n",
      "---  ------   --------------  ----- \n",
      " 0   name     4 non-null      object\n",
      " 1   brand    5 non-null      object\n",
      " 2   address  4 non-null      object\n",
      "dtypes: object(3)\n",
      "memory usage: 252.0+ bytes\n",
      "None\n"
     ]
    }
   ],
   "source": [
    "print(df.dtypes)\n",
    "print(df.describe())\n",
    "print(df.info())"
   ]
  },
  {
   "cell_type": "code",
   "execution_count": 16,
   "id": "3182104d-1e27-488a-a939-47e042a7fd1e",
   "metadata": {},
   "outputs": [
    {
     "name": "stdout",
     "output_type": "stream",
     "text": [
      "   roll  marks\n",
      "0     1   10.0\n",
      "1     2  100.0\n",
      "2     3   75.0\n",
      "roll       int32\n",
      "marks    float64\n",
      "dtype: object\n",
      "   roll\n",
      "0     1\n",
      "1     2\n"
     ]
    }
   ],
   "source": [
    "import pandas as pd\n",
    "mydataset={\n",
    " 'roll':[\"1\",\"2\",\"3\"],\n",
    " 'marks':[10,100,75]\n",
    "}\n",
    "myvar=pd.DataFrame(mydataset)\n",
    "d={'roll':int, 'marks':float}\n",
    "o=myvar.astype(d)\n",
    "print(o)\n",
    "print(o.dtypes)\n",
    "print(o.loc[:1,:'roll'])"
   ]
  },
  {
   "cell_type": "code",
   "execution_count": 21,
   "id": "9402b88b-47bd-454a-bcc7-91c014be54b5",
   "metadata": {},
   "outputs": [],
   "source": [
    "exp=o.to_csv(\"D:\\\\sdjd.csv\", index=False)"
   ]
  },
  {
   "cell_type": "code",
   "execution_count": null,
   "id": "c48739c6-6100-450e-8197-875b9514e645",
   "metadata": {},
   "outputs": [],
   "source": []
  }
 ],
 "metadata": {
  "kernelspec": {
   "display_name": "Python 3 (ipykernel)",
   "language": "python",
   "name": "python3"
  },
  "language_info": {
   "codemirror_mode": {
    "name": "ipython",
    "version": 3
   },
   "file_extension": ".py",
   "mimetype": "text/x-python",
   "name": "python",
   "nbconvert_exporter": "python",
   "pygments_lexer": "ipython3",
   "version": "3.12.1"
  }
 },
 "nbformat": 4,
 "nbformat_minor": 5
}
