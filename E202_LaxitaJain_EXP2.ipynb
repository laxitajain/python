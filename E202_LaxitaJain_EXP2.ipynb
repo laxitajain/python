{
 "cells": [
  {
   "cell_type": "markdown",
   "id": "586a6b0b",
   "metadata": {},
   "source": [
    "# Name: Laxita Jain Roll No.: E202 B.Tech. C.S (A) Batch A1 EXP2\n"
   ]
  },
  {
   "cell_type": "code",
   "execution_count": 4,
   "id": "982a7fb7",
   "metadata": {},
   "outputs": [
    {
     "name": "stdout",
     "output_type": "stream",
     "text": [
      "Enter the first side: 56\n",
      "Enter the second side: 57\n",
      "Enter the third side: 56\n",
      "The triangle is Isosceles.\n"
     ]
    }
   ],
   "source": [
    "#1\n",
    "x=int(input(\"Enter the first side: \"))\n",
    "y=int(input(\"Enter the second side: \"))\n",
    "z=int(input(\"Enter the third side: \"))\n",
    "if x==y and y==z:\n",
    "    print(\"The triangle is Equilateral.\")\n",
    "elif (x==y and y!=z) or (y==z and z!=x) or (z==x and x!=y):\n",
    "    print(\"The triangle is Isosceles.\")\n",
    "else: \n",
    "    print(\"The triangle is Scalene.\")"
   ]
  },
  {
   "cell_type": "code",
   "execution_count": 6,
   "id": "7336efec",
   "metadata": {
    "scrolled": true
   },
   "outputs": [
    {
     "name": "stdout",
     "output_type": "stream",
     "text": [
      "Enter the value of a:2\n",
      "Enter the value of b:2\n",
      "Enter the value of c:2\n",
      "Enter the value of d:2\n",
      "Enter the value of k:1\n",
      "Enter the value of x:2\n",
      "The value of f(x) is 10\n"
     ]
    }
   ],
   "source": [
    "#2\n",
    "a=int(input(\"Enter the value of a:\"))\n",
    "b=int(input(\"Enter the value of b:\"))\n",
    "c=int(input(\"Enter the value of c:\"))\n",
    "d=int(input(\"Enter the value of d:\"))\n",
    "k=int(input(\"Enter the value of k:\"))\n",
    "x=int(input(\"Enter the value of x:\"))\n",
    "if x>k:\n",
    "    y=a*x**3-b*x**2+c*x-d\n",
    "elif x==k:\n",
    "    y=0\n",
    "else: \n",
    "    y=-a*x**3+b*x**2-c*x+d\n",
    "print(\"The value of f(x) is\",y)    "
   ]
  },
  {
   "cell_type": "code",
   "execution_count": 9,
   "id": "68ae7375",
   "metadata": {},
   "outputs": [
    {
     "name": "stdout",
     "output_type": "stream",
     "text": [
      "Enter weight in kgs: 45\n",
      "Enter height: 16\n",
      "Status: Underweight\n"
     ]
    }
   ],
   "source": [
    "#3\n",
    "w=float(input(\"Enter weight in kgs: \"))\n",
    "h=float(input(\"Enter height: \"))\n",
    "BMI=w/(h**2)\n",
    "if BMI<=18.4:\n",
    "    print(\"Status: Underweight\")\n",
    "elif BMI>=18.5 and BMI<=24.9:\n",
    "    print(\"Status: Normal\")\n",
    "elif BMI>=25.0 and BMI<=39.9:\n",
    "    print(\"Status: Overweight\")\n",
    "else:\n",
    "    print(\"Status: Obese\")"
   ]
  },
  {
   "cell_type": "code",
   "execution_count": 11,
   "id": "fc25b70b",
   "metadata": {},
   "outputs": [
    {
     "name": "stdout",
     "output_type": "stream",
     "text": [
      "Enter 1 to enter distance in inches and Enter 2 to enter distance in centimetres: 2\n",
      "Enter the distance in cms: 200\n",
      "The distance in metres is  2.0\n"
     ]
    }
   ],
   "source": [
    "#4\n",
    "a=int(input(\"Enter 1 to enter distance in inches and Enter 2 to enter distance in centimetres: \"))\n",
    "if a==1:\n",
    "    inches=float(input(\"Enter the distance in inches: \"))\n",
    "    print(\"The distance in feet is \",inches/12)\n",
    "else:\n",
    "    cm=float(input(\"Enter the distance in cms: \"))\n",
    "    print(\"The distance in metres is \",cm/100)\n",
    "    "
   ]
  },
  {
   "cell_type": "code",
   "execution_count": 12,
   "id": "6967c7ae",
   "metadata": {},
   "outputs": [
    {
     "name": "stdout",
     "output_type": "stream",
     "text": [
      "Enter the string: laxita\n",
      "laxita\n"
     ]
    }
   ],
   "source": [
    "#5\n",
    "a=input(\"Enter the string: \")\n",
    "print(a[:])"
   ]
  },
  {
   "cell_type": "code",
   "execution_count": 15,
   "id": "1143b286",
   "metadata": {},
   "outputs": [
    {
     "name": "stdout",
     "output_type": "stream",
     "text": [
      "rgamn\n"
     ]
    }
   ],
   "source": [
    "#6\n",
    "a=\"Programming\"\n",
    "substr=a[1::2]\n",
    "print(substr)"
   ]
  },
  {
   "cell_type": "code",
   "execution_count": 18,
   "id": "a9bf9105",
   "metadata": {},
   "outputs": [
    {
     "name": "stdout",
     "output_type": "stream",
     "text": [
      "Enter a string: mom\n",
      "The entered string is a Palindrome!\n"
     ]
    }
   ],
   "source": [
    "#7\n",
    "string1=input(\"Enter a string: \")\n",
    "rev=string1[::-1]\n",
    "if rev==string1:\n",
    "    print(\"The entered string is a Palindrome!\")\n",
    "else: \n",
    "    print(\"The entered string is not a Palindrome!\")"
   ]
  }
 ],
 "metadata": {
  "kernelspec": {
   "display_name": "Python 3 (ipykernel)",
   "language": "python",
   "name": "python3"
  },
  "language_info": {
   "codemirror_mode": {
    "name": "ipython",
    "version": 3
   },
   "file_extension": ".py",
   "mimetype": "text/x-python",
   "name": "python",
   "nbconvert_exporter": "python",
   "pygments_lexer": "ipython3",
   "version": "3.11.5"
  }
 },
 "nbformat": 4,
 "nbformat_minor": 5
}
