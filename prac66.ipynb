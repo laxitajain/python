{
  "nbformat": 4,
  "nbformat_minor": 0,
  "metadata": {
    "colab": {
      "provenance": [],
      "authorship_tag": "ABX9TyPC/3SU0BcUD4CPreZhnHK4",
      "include_colab_link": true
    },
    "kernelspec": {
      "name": "python3",
      "display_name": "Python 3"
    },
    "language_info": {
      "name": "python"
    }
  },
  "cells": [
    {
      "cell_type": "markdown",
      "metadata": {
        "id": "view-in-github",
        "colab_type": "text"
      },
      "source": [
        "<a href=\"https://colab.research.google.com/github/laxitajain/python/blob/main/prac66.ipynb\" target=\"_parent\"><img src=\"https://colab.research.google.com/assets/colab-badge.svg\" alt=\"Open In Colab\"/></a>"
      ]
    },
    {
      "cell_type": "code",
      "execution_count": 1,
      "metadata": {
        "colab": {
          "base_uri": "https://localhost:8080/"
        },
        "id": "H7ptwab6EBZq",
        "outputId": "ebc3e53b-27d7-4e13-e2ea-affd01250b6e"
      },
      "outputs": [
        {
          "output_type": "stream",
          "name": "stdout",
          "text": [
            "i           maths\n",
            "ii     accounting\n",
            "iii        pyhton\n",
            "dtype: object\n"
          ]
        }
      ],
      "source": [
        "import pandas as pd\n",
        "s=['maths','accounting','pyhton']\n",
        "df=pd.Series(s, index=['i','ii','iii'])\n",
        "print(df)"
      ]
    },
    {
      "cell_type": "code",
      "source": [
        "import pandas as pd\n",
        "dict={\n",
        "    'artists':['JK','Zayn','Coldplay'],\n",
        "    'songs':['swy','unfwb','infinity'],\n",
        "    'rank':[1,2,3]\n",
        "}\n",
        "df=pd.DataFrame(dict, index=['i','ii','iii'])\n",
        "print(df)"
      ],
      "metadata": {
        "colab": {
          "base_uri": "https://localhost:8080/"
        },
        "id": "Um26C--RFkj8",
        "outputId": "c990520c-a581-44d0-fb45-e2886fc6d720"
      },
      "execution_count": 2,
      "outputs": [
        {
          "output_type": "stream",
          "name": "stdout",
          "text": [
            "      artists     songs  rank\n",
            "i          JK       swy     1\n",
            "ii       Zayn     unfwb     2\n",
            "iii  Coldplay  infinity     3\n"
          ]
        }
      ]
    },
    {
      "cell_type": "code",
      "source": [
        "import pandas as pd\n",
        "series={\n",
        "    'S1':['pyhton','ds','asf','ass'],\n",
        "    'S2':['9','8','7','9'],\n",
        "    'S3':['7','8','9','7']\n",
        "}\n",
        "df=pd.DataFrame(series, index=['i','ii','iii','iv'])\n",
        "print(df)"
      ],
      "metadata": {
        "colab": {
          "base_uri": "https://localhost:8080/"
        },
        "id": "CVzDQU-fGSd6",
        "outputId": "6ce2f8ea-649e-4ed8-d910-ab3ab60ebc49"
      },
      "execution_count": 4,
      "outputs": [
        {
          "output_type": "stream",
          "name": "stdout",
          "text": [
            "         S1 S2 S3\n",
            "i    pyhton  9  7\n",
            "ii       ds  8  8\n",
            "iii     asf  7  9\n",
            "iv      ass  9  7\n"
          ]
        }
      ]
    }
  ]
}