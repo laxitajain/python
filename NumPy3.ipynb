{
 "cells": [
  {
   "cell_type": "code",
   "execution_count": 2,
   "id": "6e5f6173-c0bf-48b9-b498-9ffbdf6cdff7",
   "metadata": {},
   "outputs": [
    {
     "name": "stdout",
     "output_type": "stream",
     "text": [
      "8\n"
     ]
    }
   ],
   "source": [
    "#1\n",
    "import numpy as lx\n",
    "a=[1,23,3]\n",
    "e=lx.array(a)\n",
    "print(e.itemsize)"
   ]
  },
  {
   "cell_type": "code",
   "execution_count": 3,
   "id": "48a6b83a-dc7c-4fb2-bbf8-3a3e235196e4",
   "metadata": {},
   "outputs": [
    {
     "name": "stdout",
     "output_type": "stream",
     "text": [
      "[ 5 12 21 32]\n"
     ]
    }
   ],
   "source": [
    "#2\n",
    "import numpy as lx\n",
    "a=[1,2,3,4]\n",
    "b=[5,6,7,8]\n",
    "print(lx.multiply(a,b))"
   ]
  },
  {
   "cell_type": "code",
   "execution_count": 1,
   "id": "4f753998-b662-48a0-aae9-658211b9b8d0",
   "metadata": {},
   "outputs": [
    {
     "name": "stdout",
     "output_type": "stream",
     "text": [
      "[21 27 33]\n"
     ]
    }
   ],
   "source": [
    "import numpy as lx\n",
    "a=[1,2,3] \n",
    "b=[[4,5,6],[7,8,9],[1,2,3]]\n",
    "x=lx.dot(a,b)\n",
    "print(x)\n"
   ]
  },
  {
   "cell_type": "code",
   "execution_count": 4,
   "id": "9f3e470f-a8bd-43a4-af70-1caf2e03e84b",
   "metadata": {},
   "outputs": [
    {
     "name": "stdout",
     "output_type": "stream",
     "text": [
      "[0.5        0.70710678 0.8660254 ]\n",
      "30\n",
      "1.0471975511965976\n",
      "30\n"
     ]
    }
   ],
   "source": [
    "import numpy as lx\n",
    "a=[30,45,60]\n",
    "b=lx.deg2rad(a)\n",
    "c=lx.sin(b)\n",
    "print(c)\n",
    "print(lx.amin(a))\n",
    "print(lx.amax(b))\n",
    "print(lx.ptp(a))\n"
   ]
  },
  {
   "cell_type": "code",
   "execution_count": 6,
   "id": "439e2989-f69e-46fb-9cea-84b4037c4b21",
   "metadata": {},
   "outputs": [
    {
     "name": "stdout",
     "output_type": "stream",
     "text": [
      "[ 9 12]\n"
     ]
    }
   ],
   "source": [
    "import numpy as lx\n",
    "a=[[1,2],[3,4],[5,6]]\n",
    "c=lx.array(a)\n",
    "b=c.sum(axis=0)\n",
    "print(b)\n"
   ]
  },
  {
   "cell_type": "code",
   "execution_count": null,
   "id": "86a17820-42bf-4cee-af8d-c0cf0eebfc5b",
   "metadata": {},
   "outputs": [],
   "source": []
  }
 ],
 "metadata": {
  "kernelspec": {
   "display_name": "Python 3 (ipykernel)",
   "language": "python",
   "name": "python3"
  },
  "language_info": {
   "codemirror_mode": {
    "name": "ipython",
    "version": 3
   },
   "file_extension": ".py",
   "mimetype": "text/x-python",
   "name": "python",
   "nbconvert_exporter": "python",
   "pygments_lexer": "ipython3",
   "version": "3.11.4"
  }
 },
 "nbformat": 4,
 "nbformat_minor": 5
}