{
  "nbformat": 4,
  "nbformat_minor": 0,
  "metadata": {
    "colab": {
      "provenance": [],
      "authorship_tag": "ABX9TyMCiUJyGMvnrmMy0DwvBi7v",
      "include_colab_link": true
    },
    "kernelspec": {
      "name": "python3",
      "display_name": "Python 3"
    },
    "language_info": {
      "name": "python"
    }
  },
  "cells": [
    {
      "cell_type": "markdown",
      "metadata": {
        "id": "view-in-github",
        "colab_type": "text"
      },
      "source": [
        "<a href=\"https://colab.research.google.com/github/laxitajain/python/blob/main/functions.ipynb\" target=\"_parent\"><img src=\"https://colab.research.google.com/assets/colab-badge.svg\" alt=\"Open In Colab\"/></a>"
      ]
    },
    {
      "cell_type": "code",
      "execution_count": null,
      "metadata": {
        "colab": {
          "base_uri": "https://localhost:8080/"
        },
        "id": "iBKgJKMtrENS",
        "outputId": "302e9968-3ee5-4cb3-a835-53dca272c614"
      },
      "outputs": [
        {
          "output_type": "stream",
          "name": "stdout",
          "text": [
            "Enter the year: 2016\n",
            "Leap!\n"
          ]
        }
      ],
      "source": [
        "def leap(y):\n",
        "  if (y%4==0 and y%100!=0) or y%400==0:\n",
        "    return True\n",
        "  return False\n",
        "n=int(input(\"Enter the year: \"))\n",
        "if leap(n):\n",
        "  print(\"Leap!\")\n",
        "else:\n",
        "  print(\"Not Leap!\")"
      ]
    },
    {
      "cell_type": "code",
      "source": [
        "def Extract_Even(l):\n",
        "  return [i for i in l if i%2==0]\n",
        "l=[1,2,3,4]\n",
        "print(Extract_Even(l))"
      ],
      "metadata": {
        "colab": {
          "base_uri": "https://localhost:8080/"
        },
        "id": "84vV4QhKs_W7",
        "outputId": "9a9606e1-d698-4a9a-fd9b-dc53d620543b"
      },
      "execution_count": null,
      "outputs": [
        {
          "output_type": "stream",
          "name": "stdout",
          "text": [
            "[2, 4]\n"
          ]
        }
      ]
    },
    {
      "cell_type": "code",
      "source": [
        "def area(*args):\n",
        "  if len(args)==1:\n",
        "    return 3.14*args[0]*args[0]\n",
        "  elif len(args)==2:\n",
        "    return 0.5*args[0]*args[1]\n",
        "print(area(7))\n",
        "print(area(2,5))"
      ],
      "metadata": {
        "colab": {
          "base_uri": "https://localhost:8080/"
        },
        "id": "RqigwDjyvUHF",
        "outputId": "6ce884f4-a01d-4949-8f12-6a99da3dd86c"
      },
      "execution_count": null,
      "outputs": [
        {
          "output_type": "stream",
          "name": "stdout",
          "text": [
            "153.86\n",
            "5.0\n"
          ]
        }
      ]
    },
    {
      "cell_type": "code",
      "source": [
        "def maxm(*args):\n",
        "  return max(args)\n",
        "print(maxm(1,2,3))\n",
        "print(maxm(456,24,2))"
      ],
      "metadata": {
        "colab": {
          "base_uri": "https://localhost:8080/"
        },
        "id": "_-gkh9KuwRKz",
        "outputId": "ef839cd2-e2da-4b9e-ad5c-bf28aca11fd6"
      },
      "execution_count": 6,
      "outputs": [
        {
          "output_type": "stream",
          "name": "stdout",
          "text": [
            "3\n",
            "456\n"
          ]
        }
      ]
    },
    {
      "cell_type": "code",
      "source": [
        "def whatdoido(**kwargs):\n",
        "  for x,y in kwargs.items():\n",
        "    print(x,'-',y)\n",
        "whatdoido(one=\"you\",two=\"me\",three=\"and us\")"
      ],
      "metadata": {
        "colab": {
          "base_uri": "https://localhost:8080/"
        },
        "id": "49Oe3ejVwo7r",
        "outputId": "26f3c3d2-273f-4e59-bfeb-e45a7c8a0458"
      },
      "execution_count": 8,
      "outputs": [
        {
          "output_type": "stream",
          "name": "stdout",
          "text": [
            "one - you\n",
            "two - me\n",
            "three - and us\n"
          ]
        }
      ]
    },
    {
      "cell_type": "code",
      "source": [
        "def fibo(n):\n",
        "  if n==1:\n",
        "    return 0\n",
        "  elif n==2:\n",
        "    return 1\n",
        "  else:\n",
        "    return fibo(n-2)+fibo(n-1)\n",
        "n=int(input())\n",
        "for i in range(1,n+1):\n",
        "  print(fibo(i),end=' ')\n",
        "\n"
      ],
      "metadata": {
        "colab": {
          "base_uri": "https://localhost:8080/"
        },
        "id": "q0uKNH9WxtLf",
        "outputId": "c584733a-2cd8-49c9-cb50-c072c82a0303"
      },
      "execution_count": 14,
      "outputs": [
        {
          "output_type": "stream",
          "name": "stdout",
          "text": [
            "11\n",
            "0 1 1 2 3 5 8 13 21 34 55 "
          ]
        }
      ]
    },
    {
      "cell_type": "code",
      "source": [
        "def sq(n):\n",
        "  return n**2\n",
        "l=[1,2,3]\n",
        "c=map(sq,l)\n",
        "print(list(c))"
      ],
      "metadata": {
        "colab": {
          "base_uri": "https://localhost:8080/"
        },
        "id": "QFVlB2KbzMmf",
        "outputId": "b4e2240b-0624-40d8-da8e-476779449aa9"
      },
      "execution_count": 15,
      "outputs": [
        {
          "output_type": "stream",
          "name": "stdout",
          "text": [
            "[1, 4, 9]\n"
          ]
        }
      ]
    },
    {
      "cell_type": "code",
      "source": [
        "l=[i for i in range(1,11)]\n",
        "a=[fibo(i) for i in l ]\n",
        "z=map(lambda x: x*x,a)\n",
        "print(list(z))"
      ],
      "metadata": {
        "colab": {
          "base_uri": "https://localhost:8080/"
        },
        "id": "fYNgNAlDzk4f",
        "outputId": "4275bbb6-4497-4cb5-e2c2-c004c1de39df"
      },
      "execution_count": 17,
      "outputs": [
        {
          "output_type": "stream",
          "name": "stdout",
          "text": [
            "[0, 1, 1, 4, 9, 25, 64, 169, 441, 1156]\n"
          ]
        }
      ]
    },
    {
      "cell_type": "code",
      "source": [
        "a=lambda x:x+26\n",
        "print(a(34))\n",
        "v=lambda x,y:x*y\n",
        "print(v(2,3))"
      ],
      "metadata": {
        "colab": {
          "base_uri": "https://localhost:8080/"
        },
        "id": "j0o39T0x0QbB",
        "outputId": "b42954ae-113b-4728-f1e1-1a44cdf22d7e"
      },
      "execution_count": 19,
      "outputs": [
        {
          "output_type": "stream",
          "name": "stdout",
          "text": [
            "60\n",
            "6\n"
          ]
        }
      ]
    },
    {
      "cell_type": "code",
      "source": [
        "users = [\n",
        "    {\"username\": 'seema', \"tweets\": [\"i love chocolate\", \"i am a student\"]},\n",
        "    {\"username\": 'arush', \"tweets\": []},\n",
        "    {\"username\": 'kumal', \"tweets\": [\"India\", \"Python\"]},\n",
        "    {\"username\": 'sam', \"tweets\": []}, {\"username\": 'lokesh', \"tweets\": [\"i am good\"]},\n",
        "]\n",
        "def ina(x):\n",
        "  return not x['tweets']\n",
        "a=filter(ina,users)\n",
        "print(list(a))\n",
        "upper=filter(lambda x:x[\"username\"].isupper(),list(a))\n",
        "print(list(upper))\n",
        "def str(x):\n",
        "  return \"your name is \"+x['username']\n",
        "lst=list(filter(lambda x:len(x[\"username\"])>4,users))\n",
        "a=list(map(str,lst))\n",
        "print(a)"
      ],
      "metadata": {
        "colab": {
          "base_uri": "https://localhost:8080/"
        },
        "id": "8PLv0n-21Akv",
        "outputId": "e4015691-458b-4601-f098-1995bb96a6b4"
      },
      "execution_count": 25,
      "outputs": [
        {
          "output_type": "stream",
          "name": "stdout",
          "text": [
            "[{'username': 'arush', 'tweets': []}, {'username': 'sam', 'tweets': []}]\n",
            "[]\n",
            "['your name is seema', 'your name is arush', 'your name is kumal', 'your name is lokesh']\n"
          ]
        }
      ]
    }
  ]
}