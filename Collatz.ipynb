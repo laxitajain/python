{
  "nbformat": 4,
  "nbformat_minor": 0,
  "metadata": {
    "colab": {
      "provenance": [],
      "authorship_tag": "ABX9TyN5+4QBNjXQlS+vhk6ZjZTB",
      "include_colab_link": true
    },
    "kernelspec": {
      "name": "python3",
      "display_name": "Python 3"
    },
    "language_info": {
      "name": "python"
    }
  },
  "cells": [
    {
      "cell_type": "markdown",
      "metadata": {
        "id": "view-in-github",
        "colab_type": "text"
      },
      "source": [
        "<a href=\"https://colab.research.google.com/github/laxitajain/python/blob/main/Collatz.ipynb\" target=\"_parent\"><img src=\"https://colab.research.google.com/assets/colab-badge.svg\" alt=\"Open In Colab\"/></a>"
      ]
    },
    {
      "cell_type": "code",
      "execution_count": 10,
      "metadata": {
        "colab": {
          "base_uri": "https://localhost:8080/"
        },
        "id": "tkGhzvLCAI1L",
        "outputId": "c87ab516-90e2-4372-97ba-e67255dd271b"
      },
      "outputs": [
        {
          "output_type": "execute_result",
          "data": {
            "text/plain": [
              "[15, 46, 23, 70, 35, 106, 53, 160, 80, 40, 20, 10, 5, 16, 8, 4, 2, 1]"
            ]
          },
          "metadata": {},
          "execution_count": 10
        }
      ],
      "source": [
        "def collatz(a: int) -> list[int]:\n",
        "  sequence = []\n",
        "  sequence.append(a)\n",
        "  n = a\n",
        "  while n != 1:\n",
        "    if n %2 == 0:\n",
        "      n = n // 2\n",
        "    else:\n",
        "      n = 3*n +1\n",
        "    sequence.append(n)\n",
        "  return sequence\n",
        "collatz(15)"
      ]
    },
    {
      "cell_type": "code",
      "source": [],
      "metadata": {
        "id": "4bBWBV5UEIt0"
      },
      "execution_count": null,
      "outputs": []
    },
    {
      "cell_type": "code",
      "source": [],
      "metadata": {
        "id": "-FZ-vVi6BAmh"
      },
      "execution_count": null,
      "outputs": []
    }
  ]
}