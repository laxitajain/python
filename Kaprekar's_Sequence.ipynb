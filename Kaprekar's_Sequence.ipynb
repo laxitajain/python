{
  "nbformat": 4,
  "nbformat_minor": 0,
  "metadata": {
    "colab": {
      "provenance": [],
      "authorship_tag": "ABX9TyMp3XkrcLkoQqul27pYIc7D",
      "include_colab_link": true
    },
    "kernelspec": {
      "name": "python3",
      "display_name": "Python 3"
    },
    "language_info": {
      "name": "python"
    }
  },
  "cells": [
    {
      "cell_type": "markdown",
      "metadata": {
        "id": "view-in-github",
        "colab_type": "text"
      },
      "source": [
        "<a href=\"https://colab.research.google.com/github/laxitajain/python/blob/main/Kaprekar's_Sequence.ipynb\" target=\"_parent\"><img src=\"https://colab.research.google.com/assets/colab-badge.svg\" alt=\"Open In Colab\"/></a>"
      ]
    },
    {
      "cell_type": "code",
      "execution_count": 59,
      "metadata": {
        "colab": {
          "base_uri": "https://localhost:8080/"
        },
        "id": "Oug5OFP8Cr_y",
        "outputId": "d94a7c1d-4ad8-4cca-9527-b206f5cc7498"
      },
      "outputs": [
        {
          "output_type": "stream",
          "name": "stdout",
          "text": [
            "[8172, 7443, 3996, 6264, 4176, 6174]\n"
          ]
        }
      ],
      "source": [
        "def largest_n(n: list[int]) -> list[int]:\n",
        "  largest = 0\n",
        "  n=sorted(n, reverse= True)\n",
        "  for i in n:\n",
        "    largest = largest * 10 + i\n",
        "  return largest\n",
        "\n",
        "def smallest_n(n1: list[int]) -> list[int]:\n",
        "  smallest = 0\n",
        "  digits=sorted(n1)\n",
        "  for i in digits:\n",
        "    smallest = smallest*10 + i\n",
        "  return smallest\n",
        "\n",
        "def kaprekar(n: int) -> list[int]:\n",
        "  seq=[]\n",
        "  d=0\n",
        "  while d != 6174:\n",
        "    d = largest_n(list(map(int, str(n)))) - smallest_n(list(map(int, str(n))))\n",
        "    seq.append(d)\n",
        "    n=d\n",
        "  return seq\n",
        "\n",
        "print(kaprekar(8046))"
      ]
    }
  ]
}