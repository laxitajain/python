{
  "nbformat": 4,
  "nbformat_minor": 0,
  "metadata": {
    "colab": {
      "private_outputs": true,
      "provenance": [],
      "include_colab_link": true
    },
    "kernelspec": {
      "name": "python3",
      "display_name": "Python 3"
    },
    "language_info": {
      "name": "python"
    }
  },
  "cells": [
    {
      "cell_type": "markdown",
      "metadata": {
        "id": "view-in-github",
        "colab_type": "text"
      },
      "source": [
        "<a href=\"https://colab.research.google.com/github/laxitajain/python/blob/main/WE6_20240304.ipynb\" target=\"_parent\"><img src=\"https://colab.research.google.com/assets/colab-badge.svg\" alt=\"Open In Colab\"/></a>"
      ]
    },
    {
      "cell_type": "code",
      "execution_count": null,
      "metadata": {
        "id": "womjxcyEqJym"
      },
      "outputs": [],
      "source": [
        "def next_collatz(n: int) -> int:\n",
        "    return n // 2 if n % 2 == 0 else 3 * n + 1"
      ]
    },
    {
      "cell_type": "code",
      "source": [
        "def collatz_seq(n: int) -> list[int]:\n",
        "    if n == 4:\n",
        "        return [4, 2, 1]\n",
        "    else:\n",
        "        return [n] + collatz_seq(next_collatz(n))"
      ],
      "metadata": {
        "id": "bQD8s-juvxx-"
      },
      "execution_count": null,
      "outputs": []
    },
    {
      "cell_type": "code",
      "source": [
        "print(collatz_seq(7))\n",
        "print(collatz_seq(2))"
      ],
      "metadata": {
        "id": "bJrj42e4wAd3"
      },
      "execution_count": null,
      "outputs": []
    },
    {
      "cell_type": "code",
      "source": [
        "collatz_seq(7)\n",
        "collatz_seq(2)"
      ],
      "metadata": {
        "id": "th-CYOK1wDSP"
      },
      "execution_count": null,
      "outputs": []
    },
    {
      "cell_type": "markdown",
      "source": [
        "## The prime factors of $13195$ are $5, 7, 13$ and $29$.\n",
        "\n",
        "## What is the largest prime factor of the number $600851475143$?"
      ],
      "metadata": {
        "id": "8yRdiXdM1TVn"
      }
    },
    {
      "cell_type": "code",
      "source": [
        "def factorize(n: int) -> list[int]:\n",
        "    factors = []\n",
        "    while n % 2 == 0:\n",
        "        factors.append(2)\n",
        "        n //= 2\n",
        "    r = 3\n",
        "    while n > 1:\n",
        "        while n % r == 0:\n",
        "            factors.append(r)\n",
        "            n //= r\n",
        "        r += 2\n",
        "    return factors"
      ],
      "metadata": {
        "id": "yhkG_Oht1iN9"
      },
      "execution_count": null,
      "outputs": []
    },
    {
      "cell_type": "code",
      "source": [
        "factorize(13195)"
      ],
      "metadata": {
        "id": "m6iaMW0hAxav"
      },
      "execution_count": null,
      "outputs": []
    },
    {
      "cell_type": "code",
      "source": [
        "factorize(600851475143)"
      ],
      "metadata": {
        "id": "Hj545g2bA0SN"
      },
      "execution_count": null,
      "outputs": []
    },
    {
      "cell_type": "code",
      "source": [
        "factorize(128)"
      ],
      "metadata": {
        "id": "_iW6wiHzA5nV"
      },
      "execution_count": null,
      "outputs": []
    },
    {
      "cell_type": "code",
      "source": [
        "factorize(2304)"
      ],
      "metadata": {
        "id": "9dZoqyd1BtO5"
      },
      "execution_count": null,
      "outputs": []
    },
    {
      "cell_type": "markdown",
      "source": [
        "$3572$\n",
        "\n",
        "$7532$  $2357$ => $5175$\n",
        "\n",
        "$7551~~~1557$  => $5994$"
      ],
      "metadata": {
        "id": "Vi2Wk0K2DVzr"
      }
    },
    {
      "cell_type": "code",
      "source": [
        "7532 - 2357"
      ],
      "metadata": {
        "id": "hW3ff874DnP4"
      },
      "execution_count": null,
      "outputs": []
    },
    {
      "cell_type": "code",
      "source": [
        "7551 - 1557"
      ],
      "metadata": {
        "id": "wGkIuRTFDwbV"
      },
      "execution_count": null,
      "outputs": []
    },
    {
      "cell_type": "code",
      "source": [
        "9954 - 4599"
      ],
      "metadata": {
        "id": "uN5BSt8PD9xo"
      },
      "execution_count": null,
      "outputs": []
    },
    {
      "cell_type": "code",
      "source": [
        "5553 - 3555"
      ],
      "metadata": {
        "id": "-1lagSfWEGt9"
      },
      "execution_count": null,
      "outputs": []
    },
    {
      "cell_type": "code",
      "source": [
        "9981 -1899"
      ],
      "metadata": {
        "id": "X2iyKZK8EJRM"
      },
      "execution_count": null,
      "outputs": []
    },
    {
      "cell_type": "code",
      "source": [
        "8820 - 288"
      ],
      "metadata": {
        "id": "rJUcY077ELak"
      },
      "execution_count": null,
      "outputs": []
    },
    {
      "cell_type": "code",
      "source": [
        "8532 - 2358"
      ],
      "metadata": {
        "id": "0KWGtUXKEQCy"
      },
      "execution_count": null,
      "outputs": []
    },
    {
      "cell_type": "code",
      "source": [
        "7641 - 1467"
      ],
      "metadata": {
        "id": "TcvDmyzhESZ7"
      },
      "execution_count": null,
      "outputs": []
    },
    {
      "cell_type": "code",
      "source": [],
      "metadata": {
        "id": "RFEjly0lEV6W"
      },
      "execution_count": null,
      "outputs": []
    }
  ]
}