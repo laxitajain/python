{
 "cells": [
  {
   "cell_type": "markdown",
   "id": "5616df15",
   "metadata": {},
   "source": [
    "# Name: Laxita Jain Roll No.:E202 B.Tech. C.S. (A) BATCH: A1 EXP4"
   ]
  },
  {
   "cell_type": "code",
   "execution_count": 6,
   "id": "2be824b6",
   "metadata": {},
   "outputs": [
    {
     "name": "stdout",
     "output_type": "stream",
     "text": [
      "Enter the number of elements in the list: 5\n",
      "Enter the elements: \n",
      "1\n",
      "2\n",
      "3\n",
      "4\n",
      "5\n",
      "[1, 2, 3, 4, 5]\n",
      "\n",
      "The sum of the digits in list is: 15\n"
     ]
    }
   ],
   "source": [
    "#1\n",
    "list1=[]\n",
    "n=int(input(\"Enter the number of elements in the list: \"))\n",
    "print(\"Enter the elements: \")\n",
    "s=0\n",
    "for i in range(0,n):\n",
    "    c=int(input())\n",
    "    list1.append(c)\n",
    "    s+=c\n",
    "print(list1)\n",
    "print()\n",
    "print(\"The sum of the digits in list is:\",s)\n",
    "    \n"
   ]
  },
  {
   "cell_type": "code",
   "execution_count": 6,
   "id": "67234695",
   "metadata": {},
   "outputs": [
    {
     "name": "stdout",
     "output_type": "stream",
     "text": [
      "Enter the element you wish to search: 4\n",
      "The element exists in the list!\n"
     ]
    }
   ],
   "source": [
    "#2\n",
    "list1=[1,2,3,4]\n",
    "n=int(input(\"Enter the element you wish to search: \"))\n",
    "flag=False\n",
    "for i in list1:\n",
    "    if i==n:\n",
    "        flag=True\n",
    "        break\n",
    "if flag:\n",
    "    print(\"The element exists in the list!\")\n",
    "else:\n",
    "    print(\"The element doesn't exist in the list.\")\n",
    "    "
   ]
  },
  {
   "cell_type": "code",
   "execution_count": 2,
   "id": "8f9c8f4b",
   "metadata": {},
   "outputs": [
    {
     "name": "stdout",
     "output_type": "stream",
     "text": [
      "[21, 3, 42, 31, 13, 2, 5]\n",
      "[2, 3, 5, 13, 21, 31, 42]\n",
      "[2, 3, 5, 13, 21, 31]\n",
      "[2, 3, 5, 13, 21]\n",
      "[21, 13, 5, 3, 2]\n",
      "[21, 13, 5, 3, 2, 23]\n",
      "[21, 13, 5, 3, 2, 23, 20, 30, 40]\n",
      "21 13 5 3 2 23 20 30 40 "
     ]
    }
   ],
   "source": [
    "#3\n",
    "list1=[21,3,42,31,2,5]\n",
    "list1.insert(4,13)\n",
    "print(list1)\n",
    "list1.sort()\n",
    "print(list1)\n",
    "list1.pop()\n",
    "print(list1)\n",
    "list1.remove(31)\n",
    "print(list1)\n",
    "list1.reverse()\n",
    "print(list1)\n",
    "list1.append(23)\n",
    "print(list1)\n",
    "list2=[20,30,40]\n",
    "list1.extend(list2)\n",
    "print(list1)\n",
    "i=0\n",
    "while i<len(list1):\n",
    "    print(list1[i],end=\" \")\n",
    "    i+=1"
   ]
  },
  {
   "cell_type": "code",
   "execution_count": 7,
   "id": "77fdfd97",
   "metadata": {},
   "outputs": [
    {
     "name": "stdout",
     "output_type": "stream",
     "text": [
      "The maximum element of the tuple is: 5\n",
      "The maximum element of the tuple is: 2\n"
     ]
    }
   ],
   "source": [
    "#4\n",
    "tuple1=(2,3,4,5)\n",
    "print(\"The maximum element of the tuple is:\",max(tuple1))\n",
    "print(\"The maximum element of the tuple is:\",min(tuple1))"
   ]
  },
  {
   "cell_type": "code",
   "execution_count": 7,
   "id": "88911e35",
   "metadata": {},
   "outputs": [
    {
     "name": "stdout",
     "output_type": "stream",
     "text": [
      "{1, 2, 3, 4, 5, 8}\n",
      "The intersection of the two sets is: {8, 2, 3}\n",
      "The union of the two sets is: {1, 2, 3, 4, 5, 6, 8, 9}\n",
      "The difference of the two sets is: {1, 4, 5}\n",
      "The symmetric difference of the two sets is: {1, 4, 5, 6, 9}\n",
      "The length of the set is: 6\n",
      "The maximum value is: 8\n",
      "The minimum value is: 1\n",
      "set()\n"
     ]
    }
   ],
   "source": [
    "#5\n",
    "set1={1,2,3,4,5}\n",
    "set2={3,6,8,9,2}\n",
    "set1.add(8)\n",
    "print(set1)\n",
    "set3=set1.intersection(set2)\n",
    "print(\"The intersection of the two sets is:\",set3)\n",
    "set4=set1.union(set2)\n",
    "print(\"The union of the two sets is:\",set4)\n",
    "print(\"The difference of the two sets is:\",set1-set2)\n",
    "set5=set1.symmetric_difference(set2)\n",
    "print(\"The symmetric difference of the two sets is:\",set5)\n",
    "print(\"The length of the set is:\",len(set1))\n",
    "print(\"The maximum value is:\",max(set1))\n",
    "print(\"The minimum value is:\",min(set1))\n",
    "set1.clear()\n",
    "print(set1)\n"
   ]
  },
  {
   "cell_type": "code",
   "execution_count": 20,
   "id": "a84730be",
   "metadata": {},
   "outputs": [
    {
     "name": "stdout",
     "output_type": "stream",
     "text": [
      "(1, 'Monday')\n",
      "(2, 'Tuesday')\n",
      "(3, 'Wednesday')\n",
      "(4, 'Thursday')\n",
      "(5, 'Friday')\n",
      "(6, 'Saturday')\n",
      "(7, 'Sunday')\n"
     ]
    }
   ],
   "source": [
    "#6\n",
    "Dict={1:\"Monday\",\n",
    "     2:\"Tuesday\",\n",
    "     3:\"Wednesday\",\n",
    "     4:\"Thursday\",\n",
    "     5:\"Friday\",\n",
    "     6:\"Saturday\",\n",
    "     7:\"Sunday\"}\n",
    "for x in Dict.items():\n",
    "    print(x)"
   ]
  },
  {
   "cell_type": "code",
   "execution_count": 23,
   "id": "4199846d",
   "metadata": {},
   "outputs": [
    {
     "name": "stdout",
     "output_type": "stream",
     "text": [
      "The sum of all items of the dictionary is: 29\n"
     ]
    }
   ],
   "source": [
    "#7\n",
    "Dict={\"Item1\":5,\n",
    "      \"Item2\":6,\n",
    "      \"Item3\":8,\n",
    "      \"Item4\":10\n",
    "     }\n",
    "s=0\n",
    "for x in Dict:\n",
    "    s+=Dict[x]\n",
    "print(\"The sum of all items of the dictionary is:\",s)"
   ]
  },
  {
   "cell_type": "code",
   "execution_count": 1,
   "id": "cb1dc1db",
   "metadata": {},
   "outputs": [
    {
     "name": "stdout",
     "output_type": "stream",
     "text": [
      "dict_keys([701, 702, 703, 704, 705])\n",
      "50 80 100 90 75 \n",
      "Enter the sapid: 708\n",
      "Enter the grade: 80\n",
      "{701: 50, 702: 80, 703: 100, 704: 90, 705: 75, 708: 80}\n",
      "Enter the sapid to be removed: 704\n",
      "{701: 50, 702: 80, 703: 100, 705: 75, 708: 80}\n",
      "The modified marks are:\n",
      "55 85 105 80 85 \n",
      "The length of the dictionary is:  5\n",
      "The copied dictionary is: {701: 55, 702: 85, 703: 105, 705: 80, 708: 85}\n"
     ]
    }
   ],
   "source": [
    "#8\n",
    "Dict={701:50,\n",
    "     702:80,\n",
    "     703:100,\n",
    "     704:90,\n",
    "     705:75}\n",
    "print(Dict.keys())\n",
    "for x in Dict:\n",
    "    print(Dict[x],end=\" \")\n",
    "print()\n",
    "n=int(input(\"Enter the sapid: \"))\n",
    "y=int(input(\"Enter the grade: \"))\n",
    "Dict[n]=y\n",
    "print(Dict)\n",
    "s=int(input(\"Enter the sapid to be removed: \"))\n",
    "Dict.pop(s)\n",
    "print(Dict)\n",
    "print(\"The modified marks are:\")\n",
    "for x in Dict:\n",
    "    Dict[x]+=5\n",
    "    print(Dict[x],end=\" \")\n",
    "print(\"\\nThe length of the dictionary is: \",len(Dict))\n",
    "Dict2=Dict.copy()\n",
    "print(\"The copied dictionary is:\",Dict2)"
   ]
  },
  {
   "cell_type": "code",
   "execution_count": 6,
   "id": "683be24b",
   "metadata": {},
   "outputs": [
    {
     "name": "stdout",
     "output_type": "stream",
     "text": [
      "{0: 'guava', 1: 'apple', 2: 'banana', 4: 'mango', 7: 'papaya'}\n"
     ]
    }
   ],
   "source": [
    "#9\n",
    "Dict={1:\"apple\",\n",
    "     2:\"banana\",\n",
    "     4:\"mango\",\n",
    "     7:\"papaya\",\n",
    "     0:\"guava\"}\n",
    "keys=list(Dict.keys())\n",
    "keys.sort()\n",
    "sortedDict={i:Dict[i] for i in keys}\n",
    "print(\"The sorted Dictionary is: \",sortedDict)\n"
   ]
  }
 ],
 "metadata": {
  "kernelspec": {
   "display_name": "Python 3 (ipykernel)",
   "language": "python",
   "name": "python3"
  },
  "language_info": {
   "codemirror_mode": {
    "name": "ipython",
    "version": 3
   },
   "file_extension": ".py",
   "mimetype": "text/x-python",
   "name": "python",
   "nbconvert_exporter": "python",
   "pygments_lexer": "ipython3",
   "version": "3.11.5"
  }
 },
 "nbformat": 4,
 "nbformat_minor": 5
}
