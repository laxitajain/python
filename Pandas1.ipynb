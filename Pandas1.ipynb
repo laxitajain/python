{
[
  {
   "cell_type": "code",
   "execution_count": 1,
   "id": "ce408e20",
   "metadata": {},
   "outputs": [
    {
     "name": "stdout",
     "output_type": "stream",
     "text": [
      "0          Maths\n",
      "1    Programming\n",
      "2            QSP\n",
      "3     Accounting\n",
      "dtype: object\n"
     ]
    }
   ],
   "source": [
    "#1\n",
    "import pandas as pd\n",
    "a=[\"Maths\",\"Programming\",\"QSP\",\"Accounting\"]\n",
    "b=pd.Series(a)\n",
    "print(b)"
   ]
  },
  {
   "cell_type": "code",
   "execution_count": 16,
   "id": "f2a5b5d0",
   "metadata": {},
   "outputs": [
    {
     "name": "stdout",
     "output_type": "stream",
     "text": [
      "  chocolates  prices\n",
      "0    Ferrero     100\n",
      "1     Kitkat      80\n",
      "2   Milkybar      75\n"
     ]
    }
   ],
   "source": [
    "#2\n",
    "import pandas as pd\n",
    "mydataset={\n",
    "    'chocolates':[\"Ferrero\",\"Kitkat\",\"Milkybar\"],\n",
    "    'prices':[100,80,75]\n",
    "}\n",
    "myvar=pd.DataFrame(mydataset)\n",
    "print(myvar)"
   ]
  },
  {
   "cell_type": "code",
   "execution_count": 4,
   "id": "9f7f7343",
   "metadata": {},
   "outputs": [
    {
     "name": "stdout",
     "output_type": "stream",
     "text": [
      "s1    [Python, ML, NLP, DL]\n",
      "s2             [9, 8, 7, 9]\n",
      "s3             [7, 8, 9, 9]\n",
      "dtype: object\n"
     ]
    }
   ],
   "source": [
    "#3\n",
    "import pandas as pd\n",
    "dict1={\n",
    "    's1':['Python','ML','NLP','DL'],\n",
    "    's2':['9','8','7','9'],\n",
    "    's3':['7','8','9','9']\n",
    "}\n",
    "frame=pd.Series(dict1)\n",
    "print(frame)"
   ]
  },
  {
   "cell_type": "code",
   "execution_count": 25,
   "id": "74ddce35",
   "metadata": {
    "scrolled": true
   },
   "outputs": [
    {
     "name": "stdout",
     "output_type": "stream",
     "text": [
      "     5.1  3.5  1.4  0.2     Iris-setosa\n",
      "0    4.9  3.0  1.4  0.2     Iris-setosa\n",
      "1    4.7  3.2  1.3  0.2     Iris-setosa\n",
      "2    4.6  3.1  1.5  0.2     Iris-setosa\n",
      "3    5.0  3.6  1.4  0.2     Iris-setosa\n",
      "4    5.4  3.9  1.7  0.4     Iris-setosa\n",
      "..   ...  ...  ...  ...             ...\n",
      "144  6.7  3.0  5.2  2.3  Iris-virginica\n",
      "145  6.3  2.5  5.0  1.9  Iris-virginica\n",
      "146  6.5  3.0  5.2  2.0  Iris-virginica\n",
      "147  6.2  3.4  5.4  2.3  Iris-virginica\n",
      "148  5.9  3.0  5.1  1.8  Iris-virginica\n",
      "\n",
      "[149 rows x 5 columns]\n"
     ]
    }
   ],
   "source": [
    "#4\n",
    "import pandas as pd\n",
    "df=pd.read_csv('C:\\\\Users\\\\student\\\\Downloads\\\\iris.csv')\n",
    "print(df)"
   ]
  },
  {
   "cell_type": "code",
   "execution_count": 27,
   "id": "f7f5cb30",
   "metadata": {},
   "outputs": [
    {
     "name": "stdout",
     "output_type": "stream",
     "text": [
      "     sepal_length  Sepal_Width  Prtal_length  Petal_Width           Class\n",
      "0             4.9          3.0           1.4          0.2     Iris-setosa\n",
      "1             4.7          3.2           1.3          0.2     Iris-setosa\n",
      "2             4.6          3.1           1.5          0.2     Iris-setosa\n",
      "3             5.0          3.6           1.4          0.2     Iris-setosa\n",
      "4             5.4          3.9           1.7          0.4     Iris-setosa\n",
      "..            ...          ...           ...          ...             ...\n",
      "144           6.7          3.0           5.2          2.3  Iris-virginica\n",
      "145           6.3          2.5           5.0          1.9  Iris-virginica\n",
      "146           6.5          3.0           5.2          2.0  Iris-virginica\n",
      "147           6.2          3.4           5.4          2.3  Iris-virginica\n",
      "148           5.9          3.0           5.1          1.8  Iris-virginica\n",
      "\n",
      "[149 rows x 5 columns]\n"
     ]
    }
   ],
   "source": [
    "#5\n",
    "df.columns=[\"sepal_length\",\"Sepal_Width\",\"Prtal_length\",\"Petal_Width\",\"Class\"]\n",
    "print(df)"
   ]
  },
  {
   "cell_type": "code",
   "execution_count": 2,
   "id": "38358391",
   "metadata": {},
   "outputs": [
    {
     "name": "stdout",
     "output_type": "stream",
     "text": [
      "The entire dataframe:            cars  passings  year  rank\n",
      "0          BMW         3  1996     1\n",
      "1        Volvo         7  1990     3\n",
      "2         Ford         2  1993     2\n",
      "3     Mercedes         4  1980     5\n",
      "4         Audi         5  1999     6\n",
      "5  Lamborghini         6  2000     4\n",
      "Enter the number of rows to be displayed from the top: (<7): 4\n",
      "       cars  passings  year  rank\n",
      "0       BMW         3  1996     1\n",
      "1     Volvo         7  1990     3\n",
      "2      Ford         2  1993     2\n",
      "3  Mercedes         4  1980     5\n",
      "Enter the number of rows to be displayed from the bottom: (<7): 3\n",
      "          cars  passings  year  rank\n",
      "3     Mercedes         4  1980     5\n",
      "4         Audi         5  1999     6\n",
      "5  Lamborghini         6  2000     4\n",
      "The first 5 rows are:        cars  passings  year  rank\n",
      "0       BMW         3  1996     1\n",
      "1     Volvo         7  1990     3\n",
      "2      Ford         2  1993     2\n",
      "3  Mercedes         4  1980     5\n",
      "4      Audi         5  1999     6\n"
     ]
    }
   ],
   "source": [
    "#6\n",
    "import pandas as pd\n",
    "mydataset={\n",
    "    'cars':[\"BMW\",\"Volvo\",\"Ford\",\"Mercedes\",\"Audi\",\"Lamborghini\"],\n",
    "    'passings':[3,7,2,4,5,6],\n",
    "    'year':[1996,1990,1993,1980,1999,2000],\n",
    "    'rank':[1,3,2,5,6,4]\n",
    "}\n",
    "myvar=pd.DataFrame(mydataset)\n",
    "print(\"The entire dataframe: \",myvar)\n",
    "n=int(input(\"Enter the number of rows to be displayed from the top: (<7): \"))\n",
    "print(myvar.head(n))\n",
    "n=int(input(\"Enter the number of rows to be displayed from the bottom: (<7): \"))\n",
    "print(myvar.tail(n))\n",
    "print(\"The first 5 rows are:\",myvar.head(5))"
   ]
  },
  {
   "cell_type": "code",
   "execution_count": 30,
   "id": "d4fa9bd8",
   "metadata": {
    "scrolled": true
   },
   "outputs": [
    {
     "name": "stdout",
     "output_type": "stream",
     "text": [
      "chocolates    object\n",
      "prices         int64\n",
      "dtype: object\n",
      "           prices\n",
      "count    3.000000\n",
      "mean    85.000000\n",
      "std     13.228757\n",
      "min     75.000000\n",
      "25%     77.500000\n",
      "50%     80.000000\n",
      "75%     90.000000\n",
      "max    100.000000\n",
      "<class 'pandas.core.frame.DataFrame'>\n",
      "RangeIndex: 3 entries, 0 to 2\n",
      "Data columns (total 2 columns):\n",
      " #   Column      Non-Null Count  Dtype \n",
      "---  ------      --------------  ----- \n",
      " 0   chocolates  3 non-null      object\n",
      " 1   prices      3 non-null      int64 \n",
      "dtypes: int64(1), object(1)\n",
      "memory usage: 180.0+ bytes\n",
      "None\n"
     ]
    }
   ],
   "source": [
    "#7\n",
    "import pandas as pd\n",
    "mydataset={\n",
    "    'chocolates':[\"Ferrero\",\"Kitkat\",\"Milkybar\"],\n",
    "    'prices':[100,80,75]\n",
    "}\n",
    "myvar=pd.DataFrame(mydataset)\n",
    "print(myvar.dtypes)\n",
    "print(myvar.describe())\n",
    "print(myvar.info())\n"
   ]
  },
  {
   "cell_type": "code",
   "execution_count": 39,
   "id": "382558c8",
   "metadata": {},
   "outputs": [
    {
     "name": "stdout",
     "output_type": "stream",
     "text": [
      "  roll  marks\n",
      "0    1     10\n",
      "1    2    100\n",
      "2    3     75\n",
      "Before conversion of datatype:\n",
      "  roll     object\n",
      "marks     int64\n",
      "dtype: object\n",
      "After conversion of datatype:\n",
      "  roll       int32\n",
      "marks    float64\n",
      "dtype: object\n",
      "  roll\n",
      "1    2\n",
      "2    3\n"
     ]
    }
   ],
   "source": [
    "#8\n",
    "import pandas as pd\n",
    "mydataset={\n",
    "    'roll':[\"1\",\"2\",\"3\"],\n",
    "    'marks':[10,100,75]\n",
    "}\n",
    "myvar=pd.DataFrame(mydataset)\n",
    "print(myvar)\n",
    "print(\"Before conversion of datatype:\\n \",myvar.dtypes)\n",
    "d={\"roll\":int,\"marks\":float}\n",
    "myvar1=myvar.astype(d)\n",
    "print(\"After conversion of datatype:\\n \",myvar1.dtypes)\n",
    "df=myvar.loc['1':'2','roll':'roll']\n",
    "print(df)"
   ]
  },
  {
   "cell_type": "code",
   "execution_count": 35,
   "id": "4817aa95",
   "metadata": {},
   "outputs": [],
   "source": [
    "#9\n",
    "c=myvar1.to_csv(\"Sample.csv\",index=True)\n"
   ]
  }
 ],
 "metadata": {
  "kernelspec": {
   "display_name": "Python 3 (ipykernel)",
   "language": "python",
   "name": "python3"
  },
  "language_info": {
   "codemirror_mode": {
    "name": "ipython",
    "version": 3
   },
   "file_extension": ".py",
   "mimetype": "text/x-python",
   "name": "python",
   "nbconvert_exporter": "python",
   "pygments_lexer": "ipython3",
   "version": "3.11.5"
  }
 },
 "nbformat": 4,
 "nbformat_minor": 5
}
